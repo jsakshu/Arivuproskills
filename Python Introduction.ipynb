{
 "cells": [
  {
   "cell_type": "markdown",
   "id": "ff91806c-1f4f-43d9-abcc-1ec947aaa4b8",
   "metadata": {},
   "source": [
    "## What is a Program?\n",
    "\n",
    "A **program** is a set of instructions that a computer follows to perform a specific task.\n",
    "\n",
    "</br>\n",
    "\n",
    "\n",
    "A **calculator app** is a program that follows instructions to:\n",
    "\n",
    "- Add\n",
    "- Subtract\n",
    "- Multiply\n",
    "- Divide\n",
    "\n",
    "---\n"
   ]
  },
  {
   "cell_type": "markdown",
   "id": "8a766167-5b4d-4aad-8bad-80a69b7b4da6",
   "metadata": {},
   "source": [
    "##  What is a Programming Language?\n",
    "\n",
    "A **programming language** is a special language used to write those instructions in a way that the computer can understand.\n",
    "\n",
    "</br>\n",
    " Examples of Programming Languages:\n",
    "\n",
    "- Python  \n",
    "- Java  \n",
    "- C++  \n",
    "- JavaScript  \n",
    "\n",
    "</br>\n",
    "\n",
    "\n",
    " **\"Program = Instructions\"** and **\"Programming Language = How we write those instructions\"**\n"
   ]
  },
  {
   "cell_type": "markdown",
   "id": "b24f3431-eab2-498c-b87d-3114e7418b12",
   "metadata": {},
   "source": [
    "## What is Python?\n",
    "\n",
    "- Created by Guido van Rossum in 1991\n",
    "- High-level, interpreted programming language\n",
    "- Easy to learn and use\n",
    "- Popular for web development, data science, automation, AI, etc."
   ]
  },
  {
   "cell_type": "markdown",
   "id": "11790417-68a5-4540-9d58-8a058f89f577",
   "metadata": {},
   "source": [
    "#### Python is interpreted programming language"
   ]
  },
  {
   "cell_type": "code",
   "execution_count": 1,
   "id": "fa7bfd83-11f8-498b-90ee-14f11aaa34d3",
   "metadata": {},
   "outputs": [
    {
     "name": "stdout",
     "output_type": "stream",
     "text": [
      "line 1\n",
      "line 2\n"
     ]
    },
    {
     "ename": "NameError",
     "evalue": "name 'a' is not defined",
     "output_type": "error",
     "traceback": [
      "\u001b[31m---------------------------------------------------------------------------\u001b[39m",
      "\u001b[31mNameError\u001b[39m                                 Traceback (most recent call last)",
      "\u001b[36mCell\u001b[39m\u001b[36m \u001b[39m\u001b[32mIn[1]\u001b[39m\u001b[32m, line 4\u001b[39m\n\u001b[32m      2\u001b[39m \u001b[38;5;28mprint\u001b[39m(\u001b[33m\"\u001b[39m\u001b[33mline 1\u001b[39m\u001b[33m\"\u001b[39m)\n\u001b[32m      3\u001b[39m \u001b[38;5;28mprint\u001b[39m(\u001b[33m\"\u001b[39m\u001b[33mline 2\u001b[39m\u001b[33m\"\u001b[39m)\n\u001b[32m----> \u001b[39m\u001b[32m4\u001b[39m \u001b[38;5;28mprint\u001b[39m(\u001b[43ma\u001b[49m)\n\u001b[32m      5\u001b[39m \u001b[38;5;28mprint\u001b[39m(\u001b[33m\"\u001b[39m\u001b[33mlast line\u001b[39m\u001b[33m\"\u001b[39m)\n",
      "\u001b[31mNameError\u001b[39m: name 'a' is not defined"
     ]
    }
   ],
   "source": [
    "# interpreted programming language\n",
    "print(\"line 1\")\n",
    "print(\"line 2\")\n",
    "print(a)\n",
    "print(\"last line\")"
   ]
  },
  {
   "cell_type": "markdown",
   "id": "3e35d164-68c1-4c88-92e5-26c0f799ec77",
   "metadata": {},
   "source": [
    "### Python is simpe and easy to use\n",
    "#### Code to Display \"Hello, World!\" in Python\n",
    "\n",
    "```python\n",
    "print(\"\"Hello, World!\"\")\n",
    "```\n",
    "</br>\n",
    "\n",
    "#### Code to Display \"Hello, World!\" in C\n",
    "```c\n",
    "#include <stdio.h>\n",
    "\n",
    "int main() {\n",
    "    printf(\"Hello, World!\\n\");\n",
    "    return 0;\n",
    "}\n",
    "```\n",
    "</br>\n",
    "\n",
    "---\n",
    "\n",
    "#### Code to Display \"Hello, World!\" in cpp\n",
    "\n",
    "```c++\n",
    "#include <iostream>\n",
    "\n",
    "int main() {\n",
    "    cout << \"Hello, World!\" << endl;\n",
    "    return 0;\n",
    "}\n",
    "\n",
    "```\n",
    "</br>\n",
    "\n",
    "---\n",
    "\n",
    "#### Code to Display \"Hello, World!\" in cpp\n",
    "\n",
    "```java\n",
    "public class HelloWorld {\n",
    "    public static void main(String[] args) {\n",
    "        System.out.println(\"Hello, World!\");\n",
    "    }\n",
    "}\n",
    "\n",
    "\n",
    "```\n",
    "\n",
    "\n"
   ]
  },
  {
   "cell_type": "markdown",
   "id": "502c149d-9670-4bcd-b623-cfc44c73f5c4",
   "metadata": {},
   "source": [
    "## Why Learn Python?\n",
    "\n",
    "- **Simple and Readable Syntax**  \n",
    "  Python's clean syntax makes it easy to learn and write, even for beginners.\n",
    "\n",
    "- **Versatile and General-Purpose**  \n",
    "  Use Python for web development, data science, AI, automation, and more.\n",
    "\n",
    "- **Large Community Support**  \n",
    "  Extensive resources, tutorials, forums, and third-party libraries are available.\n",
    "\n",
    "- **Cross-Platform Compatibility**  \n",
    "  Run Python on Windows, macOS, Linux, and even mobile devices."
   ]
  },
  {
   "cell_type": "markdown",
   "id": "7f7b9f79-960a-4661-ae8b-91b8ea9b0656",
   "metadata": {},
   "source": [
    "## Python Applications\n",
    "\n",
    "- **Web Development**  \n",
    "- **Data Science and Analysis**  \n",
    "- **Machine Learning and AI**  \n",
    "- **Game Development**  \n",
    "- **Mobile App**\n",
    "- **GUI**\n",
    "- **Robotics**\n",
    "- **Testing**\n",
    "- **Automation**\n",
    "- **Hacking**\n"
   ]
  },
  {
   "cell_type": "markdown",
   "id": "29f08306-7c2b-40ae-b4e6-6472a9c4a5fd",
   "metadata": {},
   "source": [
    "## Popular Python IDEs\n",
    "\n",
    "- IDLE\n",
    "- PyCharm  \n",
    "- Visual Studio Code (VS Code)\n",
    "- Jupyter Notebook  \n",
    "- Thonny\n",
    " \n"
   ]
  },
  {
   "cell_type": "markdown",
   "id": "6b1423a7-a7ef-49e5-9c27-d2c45c976bbc",
   "metadata": {},
   "source": [
    " ## Common Python File Extensions\n",
    "\n",
    " - **file_name.py**- Standard Python script file. Contains Python source code.\n",
    " - **file_name.ipynb**- Jupyter Notebook file. Contains code, markdown, and outputs in an interactive format."
   ]
  },
  {
   "cell_type": "markdown",
   "id": "d9a6065f-9429-406b-89bd-800178cc38a1",
   "metadata": {},
   "source": [
    "##  How to Install Anaconda\n",
    "\n",
    "###  Step 1: Download Anaconda Installer\n",
    "- Visit the official website: [https://www.anaconda.com/products/distribution](https://www.anaconda.com/products/distribution)\n",
    "- Choose the installer for your operating system:\n",
    "  - Windows (64-bit)\n",
    "  - macOS\n",
    "  - Linux\n",
    "\n",
    "###  Step 2: Run the Installer\n",
    "- **Windows**:\n",
    "  - Double-click the `.exe` file\n",
    "  - Follow the setup wizard\n",
    "  - Choose \"Add Anaconda to my PATH environment variable\" (optional but useful)\n",
    "- **macOS/Linux**:\n",
    "  - Open Terminal\n",
    "  - Navigate to the `.sh` file and run:\n",
    "    ```bash\n",
    "    bash Anaconda3-xxxx.sh\n",
    "    ```\n",
    "  - Follow the on-screen prompts\n",
    "\n",
    "###  Step 3: Verify Installation\n",
    "- Open **Anaconda Navigator** or Terminal\n",
    "- Type the following command:\n",
    "  ```bash\n",
    "  conda --version\n"
   ]
  },
  {
   "cell_type": "markdown",
   "id": "16f492cc-b756-4044-9c43-472c05db4b58",
   "metadata": {},
   "source": [
    "## Writing Your First Python Program\n",
    "\n",
    "\n",
    "Example:\n",
    "\n",
    "```python\n",
    "\n",
    "print(\"Hello, World!\")\n",
    "\n",
    "```\n"
   ]
  },
  {
   "cell_type": "code",
   "execution_count": 2,
   "id": "a5358955-83c1-445c-a568-dea3480b47f7",
   "metadata": {},
   "outputs": [
    {
     "name": "stdout",
     "output_type": "stream",
     "text": [
      "Hello, World!\n"
     ]
    }
   ],
   "source": [
    "print(\"Hello, World!\")"
   ]
  },
  {
   "cell_type": "markdown",
   "id": "ae561b44-00eb-4349-83c0-173ee8106da5",
   "metadata": {},
   "source": [
    "---"
   ]
  },
  {
   "cell_type": "markdown",
   "id": "7df4cb60-ea9e-4d6c-9d59-15f0d29940e4",
   "metadata": {},
   "source": [
    "# Jupyter NoteBook"
   ]
  },
  {
   "cell_type": "markdown",
   "id": "b35bcf49-add8-4e07-bec3-1dd3e1073074",
   "metadata": {},
   "source": [
    "## What is Jupyter  Notebook\n",
    "* The Jupyter Notebook is an open-source web application that allows data scientists to create and share documents that           integrate live code, equations, computational output, visualizations, and other multimedia resources,\n",
    "\n",
    "* Uses include data cleaning and transformation, numerical simulation, statistical modeling, data visualization, machine         learning, and much more."
   ]
  },
  {
   "cell_type": "markdown",
   "id": "fba95ddc-0d4e-4484-8aee-0e023a0ab134",
   "metadata": {},
   "source": [
    "## Why Jupyter Notebook?\n",
    "\n",
    "- Interactive\n",
    "- Results/outputs are stored so it is easy to review\n",
    "- Friendly for documentation\n",
    "- No limitation from performance \n",
    "- helpful shortcuts\n",
    "- Industry standard for all data science, ML, AI projects.\n",
    "\n",
    "<p> Extension of jupyter file is ipynb (i python notebook, previous name of Jupyter) </p>"
   ]
  },
  {
   "cell_type": "markdown",
   "id": "ff66270c-3871-40b7-acb7-3c27ec8d2d33",
   "metadata": {},
   "source": [
    "---"
   ]
  },
  {
   "cell_type": "markdown",
   "id": "9db838e5-0b45-45fc-9e4d-0b1d22f87c5c",
   "metadata": {},
   "source": [
    "# print()"
   ]
  },
  {
   "cell_type": "markdown",
   "id": "f855f67b-97b5-40fb-a760-d45394f11ff9",
   "metadata": {},
   "source": [
    "#### 1. Printing Text\n"
   ]
  },
  {
   "cell_type": "code",
   "execution_count": 3,
   "id": "893cc102-560e-4f17-8e4d-06c0226e5544",
   "metadata": {},
   "outputs": [
    {
     "name": "stdout",
     "output_type": "stream",
     "text": [
      "Hello, world!\n"
     ]
    }
   ],
   "source": [
    "print(\"Hello, world!\")"
   ]
  },
  {
   "cell_type": "markdown",
   "id": "d593d6a6-571a-40ad-bca0-1aef4d023b8d",
   "metadata": {},
   "source": [
    "#### 2. Printing Multiple Items\n"
   ]
  },
  {
   "cell_type": "code",
   "execution_count": 4,
   "id": "9b0a5bcc-f747-4588-a72b-3073f1ee9cd1",
   "metadata": {},
   "outputs": [
    {
     "name": "stdout",
     "output_type": "stream",
     "text": [
      "My name is Rohit\n"
     ]
    }
   ],
   "source": [
    "print(\"My name is\", \"Rohit\")"
   ]
  },
  {
   "cell_type": "markdown",
   "id": "5e492022-8d41-4493-8901-32c8d951b2e6",
   "metadata": {},
   "source": [
    "#### 3. Printing Numbers\n"
   ]
  },
  {
   "cell_type": "code",
   "execution_count": 5,
   "id": "ecacfd27-2d66-4be5-a0a3-091bc429a51c",
   "metadata": {},
   "outputs": [
    {
     "name": "stdout",
     "output_type": "stream",
     "text": [
      "17\n"
     ]
    }
   ],
   "source": [
    "print(12+5)"
   ]
  },
  {
   "cell_type": "markdown",
   "id": "c6a77c8f-3fa1-47fb-9e36-eeff61959acc",
   "metadata": {},
   "source": [
    "#### 4. Using sep to Customize Separator\n"
   ]
  },
  {
   "cell_type": "code",
   "execution_count": 6,
   "id": "6d096f84-7a80-40e3-8f03-ca0ab6d7d2a4",
   "metadata": {},
   "outputs": [
    {
     "name": "stdout",
     "output_type": "stream",
     "text": [
      "Python, Java, C++\n",
      "Python: Java: C++\n"
     ]
    }
   ],
   "source": [
    "# sep - it is used to speccify the seperator in single print statement b/w the values\n",
    "print(\"Python\", \"Java\", \"C++\", sep=\", \")\n",
    "print(\"Python\", \"Java\", \"C++\", sep=\": \")"
   ]
  },
  {
   "cell_type": "markdown",
   "id": "2b49e4c5-7029-4fe1-a895-3198cba55710",
   "metadata": {},
   "source": [
    "#### 5.Using end to Customize Line Ending"
   ]
  },
  {
   "cell_type": "code",
   "execution_count": 7,
   "id": "3d1d9b3b-3788-41e9-9d2d-0adcd1b01110",
   "metadata": {},
   "outputs": [
    {
     "name": "stdout",
     "output_type": "stream",
     "text": [
      "My Name is Amit\n"
     ]
    }
   ],
   "source": [
    "print(\"My Name is\", end=\" \")\n",
    "print(\"Amit\")"
   ]
  },
  {
   "cell_type": "code",
   "execution_count": 8,
   "id": "034f2d73-581f-4d34-8f00-cefca8d8d11a",
   "metadata": {},
   "outputs": [
    {
     "name": "stdout",
     "output_type": "stream",
     "text": [
      "line 1: line 2 :line 3\n"
     ]
    }
   ],
   "source": [
    "print(\"line 1\", end=\": \")\n",
    "print(\"line 2\",end=\" :\")\n",
    "print(\"line 3\")"
   ]
  },
  {
   "cell_type": "markdown",
   "id": "e658a3ee-34a8-4fb4-b363-3829d78d4fd7",
   "metadata": {},
   "source": [
    "#### 6.Use Variables in print()"
   ]
  },
  {
   "cell_type": "code",
   "execution_count": 9,
   "id": "2aaa707d-15c4-4835-9ea0-4884809ddffc",
   "metadata": {},
   "outputs": [
    {
     "name": "stdout",
     "output_type": "stream",
     "text": [
      "Name: Sahana\n",
      "Age: 21\n"
     ]
    }
   ],
   "source": [
    "name = \"Sahana\"\n",
    "age = 21\n",
    "print(\"Name:\", name)\n",
    "print(\"Age:\", age)"
   ]
  },
  {
   "cell_type": "markdown",
   "id": "8d4c82d4-835c-44c7-a3bb-1e4832f0365a",
   "metadata": {},
   "source": [
    "#### 7.Formatted Output"
   ]
  },
  {
   "cell_type": "code",
   "execution_count": 10,
   "id": "8675d64b-4aa6-44a6-bff8-f2c986abe4bb",
   "metadata": {},
   "outputs": [
    {
     "name": "stdout",
     "output_type": "stream",
     "text": [
      "My name is Ashwin and I am 30 years old.\n"
     ]
    }
   ],
   "source": [
    "# Using f-strings \n",
    "\n",
    "name = \"Ashwin\"\n",
    "age = 30\n",
    "print(f\"My name is {name} and I am {age} years old.\")\n"
   ]
  },
  {
   "cell_type": "code",
   "execution_count": 11,
   "id": "3f779ea1-e462-41c1-8212-4af08a19cc51",
   "metadata": {},
   "outputs": [
    {
     "name": "stdout",
     "output_type": "stream",
     "text": [
      "My name is Ashwin and I am 30 years old.\n"
     ]
    }
   ],
   "source": [
    "# Using .format()\n",
    "name = \"Ashwin\"\n",
    "age = 30\n",
    "print(\"My name is {} and I am {} years old.\".format(name, age))\n"
   ]
  },
  {
   "cell_type": "code",
   "execution_count": 12,
   "id": "3519df18-8402-45fc-968b-aa1298a2d320",
   "metadata": {},
   "outputs": [
    {
     "name": "stdout",
     "output_type": "stream",
     "text": [
      "My name is Ashwin,\n",
      "My age is - 30,\n",
      "We are learning python\n"
     ]
    }
   ],
   "source": [
    "print(\"My name is Ashwin,\\nMy age is - 30,\\nWe are learning python\" )"
   ]
  },
  {
   "cell_type": "code",
   "execution_count": 13,
   "id": "56bbee23-a3b5-4e4f-8922-b0f427e59a73",
   "metadata": {},
   "outputs": [
    {
     "name": "stdout",
     "output_type": "stream",
     "text": [
      "My name is Ashwin,\tMy age is 30,\tWe are learning python\n"
     ]
    }
   ],
   "source": [
    "print(\"My name is Ashwin,\\tMy age is 30,\\tWe are learning python\" )"
   ]
  },
  {
   "cell_type": "markdown",
   "id": "085db280-c604-4d40-b038-52f9ebb9f373",
   "metadata": {},
   "source": [
    "🧪 **Activities** </br>\n",
    "🟡 Activity 1: Print a Simple Bio </br>\n",
    "🟡 Activity 2:Printing a Table (e.g., Multiplication Table of 2---2x1=2,2x2=4...)</br>\n",
    "</br>\n",
    "\n",
    "---\n"
   ]
  },
  {
   "cell_type": "markdown",
   "id": "f722578f-3da8-4603-8df2-3c88708d41fa",
   "metadata": {},
   "source": [
    "## input()"
   ]
  },
  {
   "cell_type": "raw",
   "id": "2f80b6e8-52aa-4739-82be-f6a384789741",
   "metadata": {},
   "source": [
    "The input() function in Python is used to take input from the user. It always returns a string, so if you need a number, you must convert it using int() or float()."
   ]
  },
  {
   "cell_type": "markdown",
   "id": "5065f9d9-cc49-43a0-a5a6-84a07bbc1f4a",
   "metadata": {},
   "source": [
    "**Basic Syntax**\n",
    "\n",
    "```python\n",
    "variable = input(\"Prompt message\")\n",
    "```"
   ]
  },
  {
   "cell_type": "markdown",
   "id": "98e3eb19-93d0-44d7-9055-d05a0bb74943",
   "metadata": {},
   "source": [
    "#### 1.Simple user input"
   ]
  },
  {
   "cell_type": "code",
   "execution_count": 15,
   "id": "29786d04-ee2c-4ed9-b1af-bc48ce32abf4",
   "metadata": {},
   "outputs": [
    {
     "name": "stdout",
     "output_type": "stream",
     "text": [
      "Enter your name:  \n"
     ]
    },
    {
     "name": "stdout",
     "output_type": "stream",
     "text": [
      "Hello, \n"
     ]
    }
   ],
   "source": [
    "name = input(\"Enter your name: \")\n",
    "print(\"Hello,\", name)"
   ]
  },
  {
   "cell_type": "markdown",
   "id": "5fc572d9-747e-4dcb-a992-aa93d2c66955",
   "metadata": {},
   "source": [
    "#### 2.Input numbers and add"
   ]
  },
  {
   "cell_type": "code",
   "execution_count": 38,
   "id": "b3774e86-3e54-4c06-a286-ffe8871544c9",
   "metadata": {},
   "outputs": [
    {
     "name": "stdout",
     "output_type": "stream",
     "text": [
      "Enter first number:  12\n",
      "Enter second number:  13\n"
     ]
    },
    {
     "name": "stdout",
     "output_type": "stream",
     "text": [
      "The sum is: 25\n"
     ]
    }
   ],
   "source": [
    "num1 = input(\"Enter first number: \")\n",
    "num2 = input(\"Enter second number: \")\n",
    "# Convert to int\n",
    "sum = int(num1) + int(num2)\n",
    "print(\"The sum is:\", sum)"
   ]
  },
  {
   "cell_type": "markdown",
   "id": "93b84e5c-2c7b-442f-8b83-ec7c626ad2d4",
   "metadata": {},
   "source": [
    "🧪 **Activities** </br>\n",
    "🟡 Activity 1: Write a program that asks the user to enter:<br>\n",
    "- Name\n",
    "- Age\n",
    "- Favorite color\n",
    "Then print the information back.\n",
    "\n",
    "\n",
    " </br>\n",
    "🟡 Activity 2: Write a program to Calculate the Average Marks of 3 tests using input()\n",
    "</br>\n",
    "\n",
    "---"
   ]
  },
  {
   "cell_type": "markdown",
   "id": "7f25823a-fecd-4c8e-80de-a2788b722a8b",
   "metadata": {},
   "source": [
    "## Variables in Python"
   ]
  },
  {
   "cell_type": "markdown",
   "id": "b276a753-62b7-4abd-8b8a-91fa5a09d284",
   "metadata": {},
   "source": [
    "\n",
    "\n",
    "\n",
    "## What is a Variable?\n",
    "- A **variable** is a name that refers to a value stored in memory.\n",
    "- Used to **store data** which can be used and modified later.\n",
    "\n",
    "### Example:\n",
    "```python\n",
    "x = 10\n",
    "name = \"Alice\"\n",
    "```"
   ]
  },
  {
   "cell_type": "markdown",
   "id": "489fd205-d2b4-4b6b-b4d0-daa87ddfdbf2",
   "metadata": {},
   "source": [
    "## Keywords"
   ]
  },
  {
   "cell_type": "markdown",
   "id": "a47058b1-0261-4681-8250-144d2836b3ef",
   "metadata": {},
   "source": [
    "In Python, a keyword is a reserved word that has a special meaning in the language. These words are part of the syntax and cannot be used as identifiers (such as variable names, function names, or class names)."
   ]
  },
  {
   "cell_type": "markdown",
   "id": "fd66d7b4-0881-4ad9-8526-3133b3b6fc2c",
   "metadata": {},
   "source": [
    "| Keyword       | Description                                           |\n",
    "|---------------|-------------------------------------------------------|\n",
    "| `False`       | Boolean false value                                   |\n",
    "| `None`        | Represents the absence of a value                     |\n",
    "| `True`        | Boolean true value                                    |\n",
    "| `and`         | Logical AND                                           |\n",
    "| `as`          | Used to create an alias                               |\n",
    "| `assert`      | For debugging; raises an error if condition is false  |\n",
    "| `async`       | Declares an asynchronous function                     |\n",
    "| `await`       | Awaits the result of an async function                |\n",
    "| `break`       | Exits the nearest enclosing loop                      |\n",
    "| `class`       | Declares a class                                      |\n",
    "| `continue`    | Skips the current iteration in a loop                 |\n",
    "| `def`         | Declares a function                                   |\n",
    "| `del`         | Deletes a reference to an object                      |\n",
    "| `elif`        | Else-if condition                                     |\n",
    "| `else`        | Else condition                                        |\n",
    "| `except`      | Catches exceptions in try block                       |\n",
    "| `finally`     | Block that always executes after try...except        |\n",
    "| `for`         | For loop                                              |\n",
    "| `from`        | Used with `import` to specify module content          |\n",
    "| `global`      | Declares a global variable                            |\n",
    "| `if`          | Conditional statement                                 |\n",
    "| `import`      | Imports a module                                      |\n",
    "| `in`          | Checks membership                                     |\n",
    "| `is`          | Tests identity (same memory location)                 |\n",
    "| `lambda`      | Creates an anonymous function                         |\n",
    "| `nonlocal`    | Declares a non-local variable                         |\n",
    "| `not`         | Logical NOT                                           |\n",
    "| `or`          | Logical OR                                            |\n",
    "| `pass`        | Null operation (placeholder)                          |\n",
    "| `raise`       | Raises an exception                                   |\n",
    "| `return`      | Exits a function and optionally returns a value       |\n",
    "| `try`         | Try block for exception handling                      |\n",
    "| `while`       | While loop\n"
   ]
  },
  {
   "cell_type": "markdown",
   "id": "890461ff-d11c-45d7-bb09-2783eacc3123",
   "metadata": {},
   "source": [
    "## Python Identifiers and Naming Rules\n",
    "\n",
    "## What is an Identifier?\n",
    "An **identifier** is the name used to identify a variable, function, class, module, or object.\n",
    "\n",
    "</br>\n",
    "\n",
    "## Identifier Naming Rules\n",
    "\n",
    "| Rule No. | Rule Description                                        | Example (Valid)     | Example (Invalid)      | Reason for Invalidity              |\n",
    "|----------|---------------------------------------------------------|----------------------|--------------------------|-------------------------------------|\n",
    "| 1        | Must begin with a letter (A–Z or a–z) or underscore (_) | `name`, `_value`     | `1name`                 | Cannot start with a digit           |\n",
    "| 2        | Can contain letters, digits (0–9), and underscores (_)  | `user1`, `data_set`  | `user-name`             | Hyphens are not allowed             |\n",
    "| 3        | Cannot start with a digit                               | `value1`             | `5data`                 | Starts with a number                |\n",
    "| 4        | Cannot be a Python keyword                              | `total`, `sum_`      | `class`, `def`          | Reserved words in Python            |\n",
    "| 5        | Case-sensitive                                           | `age`, `Age`, `AGE`  | —                        | All are treated as different names  |\n",
    "| 6        | No special characters other than `_`                    | `user_id`            | `user$id`, `data@2023`  | Special characters not allowed      |\n",
    "\n",
    "---\n",
    "\n",
    "\n"
   ]
  },
  {
   "cell_type": "code",
   "execution_count": 16,
   "id": "b47ca122-a571-4bc4-863b-f79cc256904e",
   "metadata": {},
   "outputs": [
    {
     "name": "stdout",
     "output_type": "stream",
     "text": [
      "21\n"
     ]
    }
   ],
   "source": [
    "var = 21 #var is entity called as variable has been created and assigned with value of 2\n",
    "print(var)"
   ]
  },
  {
   "cell_type": "code",
   "execution_count": 17,
   "id": "a58884da-03cf-4aa2-8cac-d896c6d776bf",
   "metadata": {},
   "outputs": [
    {
     "ename": "SyntaxError",
     "evalue": "invalid syntax (1821083626.py, line 1)",
     "output_type": "error",
     "traceback": [
      "  \u001b[36mCell\u001b[39m\u001b[36m \u001b[39m\u001b[32mIn[17]\u001b[39m\u001b[32m, line 1\u001b[39m\n\u001b[31m    \u001b[39m\u001b[31m$var=3\u001b[39m\n    ^\n\u001b[31mSyntaxError\u001b[39m\u001b[31m:\u001b[39m invalid syntax\n"
     ]
    }
   ],
   "source": [
    "$var=3"
   ]
  },
  {
   "cell_type": "code",
   "execution_count": 18,
   "id": "bc6304c4-21f1-4fac-b2b9-e479ccbc4de6",
   "metadata": {},
   "outputs": [
    {
     "name": "stdout",
     "output_type": "stream",
     "text": [
      "Rohit\n"
     ]
    }
   ],
   "source": [
    "first_name=\"Rohit\"\n",
    "print(first_name)\n"
   ]
  },
  {
   "cell_type": "code",
   "execution_count": 19,
   "id": "f540bac3-8c0e-4b2e-b513-5e776b94b265",
   "metadata": {},
   "outputs": [
    {
     "ename": "SyntaxError",
     "evalue": "invalid decimal literal (1924174262.py, line 1)",
     "output_type": "error",
     "traceback": [
      "  \u001b[36mCell\u001b[39m\u001b[36m \u001b[39m\u001b[32mIn[19]\u001b[39m\u001b[32m, line 1\u001b[39m\n\u001b[31m    \u001b[39m\u001b[31m1num=12\u001b[39m\n    ^\n\u001b[31mSyntaxError\u001b[39m\u001b[31m:\u001b[39m invalid decimal literal\n"
     ]
    }
   ],
   "source": [
    "1num=12"
   ]
  },
  {
   "cell_type": "code",
   "execution_count": 20,
   "id": "8f2d7db8-80b7-4b76-9a12-39655e89d211",
   "metadata": {},
   "outputs": [],
   "source": [
    "num1=12"
   ]
  },
  {
   "cell_type": "code",
   "execution_count": 21,
   "id": "8176dd29-792f-4642-ac0a-af9e650d3a2c",
   "metadata": {},
   "outputs": [
    {
     "ename": "SyntaxError",
     "evalue": "invalid syntax (1676478301.py, line 1)",
     "output_type": "error",
     "traceback": [
      "  \u001b[36mCell\u001b[39m\u001b[36m \u001b[39m\u001b[32mIn[21]\u001b[39m\u001b[32m, line 1\u001b[39m\n\u001b[31m    \u001b[39m\u001b[31mfirst$name=\"Rohit\"\u001b[39m\n         ^\n\u001b[31mSyntaxError\u001b[39m\u001b[31m:\u001b[39m invalid syntax\n"
     ]
    }
   ],
   "source": [
    "first$name=\"Rohit\""
   ]
  },
  {
   "cell_type": "markdown",
   "id": "c6c1bd0f-c5e7-43f4-8f98-3571e49181f6",
   "metadata": {},
   "source": [
    "### Variable Assignment"
   ]
  },
  {
   "cell_type": "code",
   "execution_count": 70,
   "id": "38a64d1e-df39-4f32-8749-ec3453c580db",
   "metadata": {},
   "outputs": [
    {
     "name": "stdout",
     "output_type": "stream",
     "text": [
      "10\n",
      "2.57\n",
      "Python Language\n"
     ]
    }
   ],
   "source": [
    "intvar = 10 # Integer variable\n",
    "floatvar = 2.57 # Float Variable\n",
    "strvar = \"Python Language\" # String variable\n",
    "print(intvar)\n",
    "print(floatvar)\n",
    "print(strvar)"
   ]
  },
  {
   "cell_type": "markdown",
   "id": "84361e9d-ad4b-4fbf-a134-6a54484e1c5f",
   "metadata": {},
   "source": [
    "### Multiple Assignment"
   ]
  },
  {
   "cell_type": "code",
   "execution_count": 71,
   "id": "865b4506-429b-4ad8-abb3-10e6ae9996dd",
   "metadata": {},
   "outputs": [
    {
     "name": "stdout",
     "output_type": "stream",
     "text": [
      "10\n",
      "2.57\n",
      "Python Language\n"
     ]
    }
   ],
   "source": [
    "intvar , floatvar , strvar = 10,2.57,\"Python Language\" \n",
    "# Using commas to separate variables\n",
    "print(intvar)\n",
    "print(floatvar)\n",
    "print(strvar)"
   ]
  },
  {
   "cell_type": "code",
   "execution_count": 72,
   "id": "383b8bb3-6ae9-49bf-bc72-b6ea77aa670c",
   "metadata": {},
   "outputs": [
    {
     "name": "stdout",
     "output_type": "stream",
     "text": [
      "a : 100\n",
      "b : 100\n",
      "c : 100\n"
     ]
    }
   ],
   "source": [
    "a=b=c=100\n",
    "print(\"a :\",a)\n",
    "print(\"b :\",b)\n",
    "print(\"c :\",c)"
   ]
  },
  {
   "cell_type": "markdown",
   "id": "2bcbe2b2-c9d0-4e50-aa6d-8884c0d54596",
   "metadata": {},
   "source": [
    "---"
   ]
  },
  {
   "cell_type": "markdown",
   "id": "838e8905-e5af-4c43-b4ba-206bb0468c5b",
   "metadata": {},
   "source": [
    "# Python Comments\n",
    "In Python, comments are lines in the code that are not executed. They are used to explain what the code is doing, making it easier to understand."
   ]
  },
  {
   "cell_type": "code",
   "execution_count": 73,
   "id": "d949119d-8739-44b5-86d1-6382576468f6",
   "metadata": {},
   "outputs": [
    {
     "name": "stdout",
     "output_type": "stream",
     "text": [
      "Hello, world!\n"
     ]
    }
   ],
   "source": [
    "# This is a single-line comment\n",
    "print(\"Hello, world!\")  # This prints a message\n"
   ]
  },
  {
   "cell_type": "code",
   "execution_count": 74,
   "id": "24369c3c-e539-4b60-bda6-35751be5b144",
   "metadata": {},
   "outputs": [
    {
     "name": "stdout",
     "output_type": "stream",
     "text": [
      "Learning Python comments\n"
     ]
    }
   ],
   "source": [
    "# This is a multi-line comment\n",
    "# written across several lines\n",
    "# to explain a block of code\n",
    "print(\"Learning Python comments\")\n"
   ]
  },
  {
   "cell_type": "markdown",
   "id": "27854bea-20f6-4996-9b3f-3ed1dc777d29",
   "metadata": {},
   "source": [
    "---"
   ]
  },
  {
   "cell_type": "markdown",
   "id": "8033bec1-9a4f-4421-988a-bd81aca32f5c",
   "metadata": {},
   "source": [
    "# Python Basic Data Types\n",
    "\n",
    "| Data Type     | Example              | Description                                           |\n",
    "|---------------|----------------------|-------------------------------------------------------|\n",
    "| `int`         | `5`, `-3`, `100`     | Integer numbers without decimals                      |\n",
    "| `float`       | `3.14`, `-0.001`     | Floating-point numbers (decimal numbers)              |\n",
    "| `str`         | `\"hello\"`, `'123'`   | String of characters enclosed in quotes               |\n",
    "| `bool`        | `True`, `False`      | Boolean values for logic operations                   |\n"
   ]
  },
  {
   "cell_type": "markdown",
   "id": "d3da8fd0-472c-45a2-aeb3-12f264b5c13a",
   "metadata": {},
   "source": [
    "### `type()` Function in Python\n",
    "\n",
    "\n",
    "\n",
    "- The `type()` function is used to **check the data type** of a variable or value.\n",
    "\n",
    "\n",
    "\n",
    "#### Syntax\n",
    "\n",
    "```python\n",
    "type(object)"
   ]
  },
  {
   "cell_type": "code",
   "execution_count": 77,
   "id": "a6137a32-da91-4751-92c4-2320d489ba91",
   "metadata": {},
   "outputs": [
    {
     "name": "stdout",
     "output_type": "stream",
     "text": [
      "<class 'int'>\n"
     ]
    }
   ],
   "source": [
    "num=100\n",
    "print(type(num))"
   ]
  },
  {
   "cell_type": "code",
   "execution_count": 78,
   "id": "c6986e47-2315-4b7c-af62-6d8f6919d633",
   "metadata": {},
   "outputs": [
    {
     "name": "stdout",
     "output_type": "stream",
     "text": [
      "<class 'str'>\n"
     ]
    }
   ],
   "source": [
    "name=\"lohit\"\n",
    "print(type(name))"
   ]
  },
  {
   "cell_type": "markdown",
   "id": "cbf98124-c3fb-4f94-99e3-29ed5a9f6530",
   "metadata": {},
   "source": [
    "---"
   ]
  },
  {
   "cell_type": "markdown",
   "id": "1db1f14a-cfd2-49dd-8a15-55dae8bb3eeb",
   "metadata": {},
   "source": [
    "# Python Operators"
   ]
  },
  {
   "cell_type": "markdown",
   "id": "197d519d-109b-40f4-90df-5a2d5e5d3944",
   "metadata": {},
   "source": [
    "### 1.Arithematic Operators"
   ]
  },
  {
   "cell_type": "markdown",
   "id": "d7e90d01-3c8f-42f6-a234-6429e2deb74f",
   "metadata": {},
   "source": [
    "\n",
    "\n",
    "| Operator | Name              | Description                            | Example        | Result       |\n",
    "|----------|-------------------|----------------------------------------|----------------|--------------|\n",
    "| `+`      | Addition          | Adds two numbers                        | `5 + 3`        | `8`          |\n",
    "| `-`      | Subtraction       | Subtracts second number from first      | `10 - 4`       | `6`          |\n",
    "| `*`      | Multiplication    | Multiplies two numbers                  | `6 * 7`        | `42`         |\n",
    "| `/`      | Division          | Divides first number by second (float) | `15 / 2`       | `7.5`        |\n",
    "| `//`     | Floor Division    | Division that returns integer result    | `15 // 2`      | `7`          |\n",
    "| `%`      | Modulus           | Returns remainder of division           | `10 % 3`       | `1`          |\n",
    "| `**`     | Exponentiation    | Raises first number to the power of second | `2 ** 3`    | `8`          |\n",
    "\n",
    "---\n",
    "\n",
    "**Note**\n",
    "- Division (`/`) always returns a `float`, even if the result is a whole number.\n",
    "- Floor division (`//`) truncates the decimal part.\n",
    "- Exponentiation (`**`) is used for powers like squares and cubes.\n"
   ]
  },
  {
   "cell_type": "code",
   "execution_count": 9,
   "id": "fce902c3-f48d-4513-a5b1-41ab185f9a6f",
   "metadata": {},
   "outputs": [
    {
     "name": "stdout",
     "output_type": "stream",
     "text": [
      "The Addition of 5 and 2 : 7\n",
      "The Subtraction of 5 and 2 : 3\n",
      "The Multiplication of 5 and 2 : 10\n",
      "The division of 5 and 2 : 2.5\n",
      "The modolus of 5 and 2 : 1\n",
      "The floor of 5 and 2 : 2\n",
      "The  5 power of 2 : 25\n"
     ]
    }
   ],
   "source": [
    "a=5\n",
    "b=2\n",
    "print(f\"The Addition of {a} and {b} :\",a+b)\n",
    "print(f\"The Subtraction of {a} and {b} :\",a-b)\n",
    "print(f\"The Multiplication of {a} and {b} :\",a*b)\n",
    "print(f\"The division of {a} and {b} :\",a/b)\n",
    "print(f\"The modolus of {a} and {b} :\",a%b)\n",
    "print(f\"The floor of {a} and {b} :\",a//b)\n",
    "print(f\"The  {a} power of {b} :\",a**b)"
   ]
  },
  {
   "cell_type": "markdown",
   "id": "af60adad-ee27-448d-9a9e-d5a972ab6910",
   "metadata": {},
   "source": [
    "### 2. Comparison Operators"
   ]
  },
  {
   "cell_type": "code",
   "execution_count": 10,
   "id": "3fa1554e-0710-4f84-a262-911e8ecc60be",
   "metadata": {},
   "outputs": [
    {
     "name": "stdout",
     "output_type": "stream",
     "text": [
      "Is  x  greater  than  y  :-   False\n",
      "Is  x  less  than    y  :-   True\n",
      "Is  x  equal  to    y  :-   False\n",
      "Is  x  not  equal  to  y  :-   True\n",
      "Is  x  greater  than  or  equal  to  y  :-   False\n",
      "Is  x  less  than  or  equal  to  y  :-   True\n"
     ]
    }
   ],
   "source": [
    "x  = 20\n",
    "y  = 30\n",
    "\n",
    "print('Is  x  greater  than  y  :-  ',x>y) \n",
    "print('Is  x  less  than    y  :-  ',x<y) \n",
    "print('Is  x  equal  to    y  :-  ',x==y)\n",
    "print('Is  x  not  equal  to  y  :-  ',x!=y)\n",
    "print('Is  x  greater  than  or  equal  to  y  :-  ',x>=y)\n",
    "print('Is  x  less  than  or  equal  to  y  :-  ',x<=y)"
   ]
  },
  {
   "cell_type": "markdown",
   "id": "5df132bc-0a88-4484-abe7-a87d82d993bf",
   "metadata": {},
   "source": [
    "### 3.Logical Operators"
   ]
  },
  {
   "cell_type": "code",
   "execution_count": 7,
   "id": "ebb8d32a-5cb3-43e0-a5a8-661c1c74f3c1",
   "metadata": {},
   "outputs": [
    {
     "name": "stdout",
     "output_type": "stream",
     "text": [
      "Logical  AND  operation  :-   False\n",
      "Logical  OR  operation  :-   True\n",
      "NOT  operation  :-   True\n"
     ]
    }
   ],
   "source": [
    "x = True\n",
    "y = False\n",
    "\n",
    "print('Logical  AND  operation  :-  ',x  and  y)  #  True  if  both  values  are  true\n",
    "print('Logical  OR  operation  :-  ',x  or  y)  #  True  if  either  of  the  values  is  true\n",
    "print('NOT  operation  :-  ',not  y  )  #  True  if  operand  is  false\n"
   ]
  },
  {
   "cell_type": "markdown",
   "id": "8e38fdd2-e14a-4d31-810b-facca3a7b5ee",
   "metadata": {},
   "source": [
    "### 4. Membership Operator"
   ]
  },
  {
   "cell_type": "code",
   "execution_count": 22,
   "id": "a2e91f0b-5dde-4104-9c1e-f4ceb6160dff",
   "metadata": {},
   "outputs": [
    {
     "name": "stdout",
     "output_type": "stream",
     "text": [
      "True\n"
     ]
    }
   ],
   "source": [
    "str_var=\"Mumbai\"\n",
    "print(\"a\" in str_var)\n"
   ]
  },
  {
   "cell_type": "code",
   "execution_count": 23,
   "id": "488fec7c-6f75-4688-8760-7ab91d96d265",
   "metadata": {},
   "outputs": [
    {
     "name": "stdout",
     "output_type": "stream",
     "text": [
      "False\n"
     ]
    }
   ],
   "source": [
    "str_var=\"Mumbai\"\n",
    "print(\"a\" not in str_var)"
   ]
  },
  {
   "cell_type": "code",
   "execution_count": 24,
   "id": "50a1411c-3b3a-486a-bea6-bdcee89c0ef6",
   "metadata": {},
   "outputs": [
    {
     "name": "stdout",
     "output_type": "stream",
     "text": [
      "False\n"
     ]
    }
   ],
   "source": [
    "str_var=\"Mumbai\"\n",
    "print(\"z\" in str_var)"
   ]
  },
  {
   "cell_type": "code",
   "execution_count": 25,
   "id": "7400ceef-4c1c-4dfd-ad64-4e36e65c42e0",
   "metadata": {},
   "outputs": [
    {
     "name": "stdout",
     "output_type": "stream",
     "text": [
      "False\n"
     ]
    }
   ],
   "source": [
    "str_var=\"Mumbai\"\n",
    "print(\"ma\" in str_var)"
   ]
  },
  {
   "cell_type": "code",
   "execution_count": 26,
   "id": "22bb67b1-54d7-49bd-8ce2-5581ce856036",
   "metadata": {},
   "outputs": [
    {
     "name": "stdout",
     "output_type": "stream",
     "text": [
      "True\n"
     ]
    }
   ],
   "source": [
    "str_var=\"Mumbai\"\n",
    "print(\"mb\" in str_var)"
   ]
  },
  {
   "cell_type": "markdown",
   "id": "94890341-f307-4957-9f0d-0914ace9c521",
   "metadata": {},
   "source": [
    "---"
   ]
  },
  {
   "cell_type": "markdown",
   "id": "d2f950f8-df9c-49ed-95e8-95e73923516c",
   "metadata": {},
   "source": [
    "### 5. Assignment Operators"
   ]
  },
  {
   "cell_type": "markdown",
   "id": "25828b14-8fb9-4e09-b699-c559d2e4e79a",
   "metadata": {},
   "source": [
    "| Operator | Example   | Equivalent To   | Description                          |\n",
    "|----------|-----------|-----------------|--------------------------------------|\n",
    "| `+=`     | `x += 5`  | `x = x + 5`     | Adds and assigns                     |\n",
    "| `-=`     | `x -= 3`  | `x = x - 3`     | Subtracts and assigns                |\n",
    "| `*=`     | `x *= 2`  | `x = x * 2`     | Multiplies and assigns               |\n",
    "| `/=`     | `x /= 4`  | `x = x / 4`     | Divides and assigns (float division)|\n",
    "| `//=`    | `x //= 2` | `x = x // 2`    | Floor-divides and assigns            |\n",
    "| `%=`     | `x %= 3`  | `x = x % 3`     | Modulus and assigns                  |\n",
    "| `**=`    | `x **= 2` | `x = x ** 2`    | Exponentiates and assigns            |\n",
    "| `&=`     | `x &= 1`  | `x = x & 1`     | Bitwise AND and assigns              |\n",
    "| `|=`     | `x |= 1`  | `x = x | 1`     | Bitwise OR and assigns               |\n",
    "| `^=`     | `x ^= 1`  | `x = x ^ 1`     | Bitwise XOR and assigns              |\n",
    "| `>>=`    | `x >>= 1` | `x = x >> 1`    | Right shift and assigns              |\n",
    "| `<<=`    | `x <<= 1` | `x = x << 1`    | Left shift and assigns               |\n"
   ]
  },
  {
   "cell_type": "code",
   "execution_count": 27,
   "id": "9712bd3a-10bb-4bd0-b6d6-d21dee0c9f23",
   "metadata": {},
   "outputs": [
    {
     "name": "stdout",
     "output_type": "stream",
     "text": [
      "Initial value: 10\n",
      "After x += 5 : 15\n",
      "After x -= 3 : 12\n",
      "After x *= 2 : 24\n",
      "After x /= 4 : 6.0\n",
      "After x //= 2: 3.0\n",
      "After x %= 3 : 0.0\n"
     ]
    }
   ],
   "source": [
    "# Initial assignment\n",
    "x = 10\n",
    "print(\"Initial value:\", x)\n",
    "\n",
    "# Compound assignment operators\n",
    "x += 5\n",
    "print(\"After x += 5 :\", x)\n",
    "\n",
    "x -= 3\n",
    "print(\"After x -= 3 :\", x)\n",
    "\n",
    "x *= 2\n",
    "print(\"After x *= 2 :\", x)\n",
    "\n",
    "x /= 4\n",
    "print(\"After x /= 4 :\", x)\n",
    "\n",
    "x //= 2\n",
    "print(\"After x //= 2:\", x)\n",
    "\n",
    "x %= 3\n",
    "print(\"After x %= 3 :\", x)\n",
    "\n"
   ]
  },
  {
   "cell_type": "markdown",
   "id": "99565c11-0ab1-4e30-85ba-d490c3835a0e",
   "metadata": {},
   "source": [
    "### 6. Bitwise Operator"
   ]
  },
  {
   "cell_type": "markdown",
   "id": "19989071-32fa-48ca-8fd6-77a785823e3f",
   "metadata": {},
   "source": [
    "In Python, bitwise operators are used to performing bitwise calculations on integers. The integers are first converted into binary and then operations are performed on each bit or corresponding pair of bits, hence the name bitwise operators. The result is then returned in decimal format."
   ]
  },
  {
   "cell_type": "markdown",
   "id": "b4fa3560-563e-4aaf-853f-008a18c736ba",
   "metadata": {},
   "source": [
    "Example:\n",
    "```\n",
    "a = 10 (decimal 10 is equalent to 1010 (Binary))  \n",
    "b = 4   (decimal 4 is equalent to 0100 (Binary)\n",
    "\n",
    "a & b = 1010 \n",
    "         &\n",
    "        0100\n",
    "      = 0000(as per Truth table of and operation)\n",
    "      = 0 (Decimal)\n",
    "```\n"
   ]
  },
  {
   "cell_type": "code",
   "execution_count": 28,
   "id": "c61ba777-1429-46a5-81e4-122e1a1cbdce",
   "metadata": {},
   "outputs": [
    {
     "name": "stdout",
     "output_type": "stream",
     "text": [
      "convert integer of variable a to binary 0b1010\n",
      "convert integer of variable b to binary 0b1110\n",
      "a & b : 10\n",
      "a|b : 14\n",
      "~a : -11\n",
      "a>>2 : 2\n",
      "a<<3 : 80\n"
     ]
    }
   ],
   "source": [
    "\n",
    "a = 10 # (decimal 10 is equalent to 1010 (Binary))  \n",
    "b = 14   # (decimal 4 is equalent to 0100 (Binary)\n",
    "\n",
    "\n",
    "print(\"convert integer of variable a to binary\",bin(a)) # bin() converts int to binay\n",
    "print(\"convert integer of variable b to binary\",bin(b))\n",
    "result_and=a & b # it performs binary and operation\n",
    "print(\"a & b :\",result_and)\n",
    "\n",
    "result_or=a|b\n",
    "print(\"a|b :\",result_or)\n",
    "\n",
    "result_not=~a\n",
    "print(\"~a :\",result_not)\n",
    "\n",
    "shift_right=a>>2 # shift the bits right side twise\n",
    "print(\"a>>2 :\",shift_right)\n",
    "\n",
    "shift_left=a<<3 # shift the bits left side twise\n",
    "print(\"a<<3 :\",shift_left)\n"
   ]
  },
  {
   "cell_type": "markdown",
   "id": "6eb8bda6-5902-4b23-9c4b-71175d1a7a3a",
   "metadata": {},
   "source": [
    "### 7.Identity Operator"
   ]
  },
  {
   "cell_type": "markdown",
   "id": "936b5daf-fe44-4d67-b911-4b910e75cfe2",
   "metadata": {},
   "source": [
    "Identity operators are used to compare the memory location of two objects — i.e., whether two variables refer to the same object in memory.\n",
    "\n",
    "Python provides two identity operators:"
   ]
  },
  {
   "cell_type": "markdown",
   "id": "85270043-ceb7-4132-9954-72c43481be97",
   "metadata": {},
   "source": [
    "| Operator | Syntax       | Description                                             | Example           | Result        |\n",
    "|----------|--------------|---------------------------------------------------------|-------------------|---------------|\n",
    "| `is`     | `x is y`     | Returns `True` if `x` and `y` refer to the same object  | `a is b`          | `True`        |\n",
    "| `is not` | `x is not y` | Returns `True` if `x` and `y` do **not** refer to the same object | `a is not c`      | `True`        |\n"
   ]
  },
  {
   "cell_type": "code",
   "execution_count": 29,
   "id": "0e50e282-c06a-46b7-8ef1-108b4c7f91ea",
   "metadata": {},
   "outputs": [
    {
     "name": "stdout",
     "output_type": "stream",
     "text": [
      "True\n",
      "False\n",
      "True\n",
      "True\n",
      "id(a) : 1919004812160\n",
      "id(b) : 1919004812160\n",
      "id(c) : 1919004809728\n"
     ]
    }
   ],
   "source": [
    "a = [1, 2, 3]\n",
    "b = a        # b refers to the same object as a\n",
    "c = [1, 2, 3]  # c is a separate object with the same content\n",
    "\n",
    "print(a is b)       # True (same object)\n",
    "print(a is c)       # False (different objects, same content)\n",
    "print(a == c)       # True (values are equal)\n",
    "print(a is not c)   # True (not the same object)\n",
    "print(\"id(a) :\",id(a))\n",
    "print(\"id(b) :\",id(b))\n",
    "print(\"id(c) :\",id(c))"
   ]
  },
  {
   "cell_type": "markdown",
   "id": "577350ce-0ed6-46ff-8618-46c718990c5b",
   "metadata": {},
   "source": [
    "---"
   ]
  },
  {
   "cell_type": "code",
   "execution_count": null,
   "id": "bbe0a75a-74f9-4075-822c-2f51bf2547a7",
   "metadata": {},
   "outputs": [],
   "source": []
  }
 ],
 "metadata": {
  "kernelspec": {
   "display_name": "Python 3 (ipykernel)",
   "language": "python",
   "name": "python3"
  },
  "language_info": {
   "codemirror_mode": {
    "name": "ipython",
    "version": 3
   },
   "file_extension": ".py",
   "mimetype": "text/x-python",
   "name": "python",
   "nbconvert_exporter": "python",
   "pygments_lexer": "ipython3",
   "version": "3.13.4"
  }
 },
 "nbformat": 4,
 "nbformat_minor": 5
}
