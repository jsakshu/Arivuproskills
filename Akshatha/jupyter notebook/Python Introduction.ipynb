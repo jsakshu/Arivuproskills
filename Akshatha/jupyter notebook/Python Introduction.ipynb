{
 "cells": [
  {
   "cell_type": "markdown",
   "id": "ff91806c-1f4f-43d9-abcc-1ec947aaa4b8",
   "metadata": {},
   "source": [
    "# What is a Program?\n",
    "\n",
    "A **program** is a set of instructions that a computer follows to perform a specific task.\n",
    "\n",
    "</br>\n",
    "\n",
    "\n",
    "A **calculator app** is a program that follows instructions to:\n",
    "\n",
    "- Add\n",
    "- Subtract\n",
    "- Multiply\n",
    "- Divide\n",
    "\n",
    "---\n"
   ]
  },
  {
   "cell_type": "markdown",
   "id": "8a766167-5b4d-4aad-8bad-80a69b7b4da6",
   "metadata": {},
   "source": [
    "#  What is a Programming Language?\n",
    "\n",
    "A **programming language** is a special language used to write those instructions in a way that the computer can understand.\n",
    "\n",
    "</br>\n",
    "## Examples of Programming Languages:\n",
    "\n",
    "- Python  \n",
    "- Java  \n",
    "- C++  \n",
    "- JavaScript  \n",
    "\n",
    "</br>\n",
    "\n",
    "\n",
    " **\"Program = Instructions\"** and **\"Programming Language = How we write those instructions\"**\n"
   ]
  },
  {
   "cell_type": "markdown",
   "id": "b24f3431-eab2-498c-b87d-3114e7418b12",
   "metadata": {},
   "source": [
    "# What is Python?\n",
    "\n",
    "- Created by Guido van Rossum in 1991\n",
    "- High-level, interpreted programming language\n",
    "- Easy to learn and use\n",
    "- Popular for web development, data science, automation, AI, etc."
   ]
  },
  {
   "cell_type": "markdown",
   "id": "11790417-68a5-4540-9d58-8a058f89f577",
   "metadata": {},
   "source": [
    "#### Python is interpreted programming language"
   ]
  },
  {
   "cell_type": "code",
   "execution_count": 5,
   "id": "fa7bfd83-11f8-498b-90ee-14f11aaa34d3",
   "metadata": {},
   "outputs": [
    {
     "name": "stdout",
     "output_type": "stream",
     "text": [
      "line 1\n",
      "line 2\n"
     ]
    },
    {
     "ename": "NameError",
     "evalue": "name 'a' is not defined",
     "output_type": "error",
     "traceback": [
      "\u001b[31m---------------------------------------------------------------------------\u001b[39m",
      "\u001b[31mNameError\u001b[39m                                 Traceback (most recent call last)",
      "\u001b[36mCell\u001b[39m\u001b[36m \u001b[39m\u001b[32mIn[5]\u001b[39m\u001b[32m, line 4\u001b[39m\n\u001b[32m      2\u001b[39m \u001b[38;5;28mprint\u001b[39m(\u001b[33m\"\u001b[39m\u001b[33mline 1\u001b[39m\u001b[33m\"\u001b[39m)\n\u001b[32m      3\u001b[39m \u001b[38;5;28mprint\u001b[39m(\u001b[33m\"\u001b[39m\u001b[33mline 2\u001b[39m\u001b[33m\"\u001b[39m)\n\u001b[32m----> \u001b[39m\u001b[32m4\u001b[39m \u001b[38;5;28mprint\u001b[39m(\u001b[43ma\u001b[49m)\n\u001b[32m      5\u001b[39m \u001b[38;5;28mprint\u001b[39m(\u001b[33m\"\u001b[39m\u001b[33mlast line\u001b[39m\u001b[33m\"\u001b[39m)\n",
      "\u001b[31mNameError\u001b[39m: name 'a' is not defined"
     ]
    }
   ],
   "source": [
    "# interpreted programming language\n",
    "print(\"line 1\")\n",
    "print(\"line 2\")\n",
    "print(a)\n",
    "print(\"last line\")"
   ]
  },
  {
   "cell_type": "markdown",
   "id": "3e35d164-68c1-4c88-92e5-26c0f799ec77",
   "metadata": {},
   "source": [
    "### Python is simpe and easy to use\n",
    "#### Code to Display \"Hello, World!\" in Python\n",
    "\n",
    "```python\n",
    "print(\"\"Hello, World!\"\")\n",
    "```\n",
    "</br>\n",
    "\n",
    "#### Code to Display \"Hello, World!\" in C\n",
    "```c\n",
    "#include <stdio.h>\n",
    "\n",
    "int main() {\n",
    "    printf(\"Hello, World!\\n\");\n",
    "    return 0;\n",
    "}\n",
    "```\n",
    "</br>\n",
    "\n",
    "---\n",
    "\n",
    "#### Code to Display \"Hello, World!\" in cpp\n",
    "\n",
    "```c++\n",
    "#include <iostream>\n",
    "\n",
    "int main() {\n",
    "    cout << \"Hello, World!\" << endl;\n",
    "    return 0;\n",
    "}\n",
    "\n",
    "```\n",
    "</br>\n",
    "\n",
    "---\n",
    "\n",
    "#### Code to Display \"Hello, World!\" in cpp\n",
    "\n",
    "```java\n",
    "public class HelloWorld {\n",
    "    public static void main(String[] args) {\n",
    "        System.out.println(\"Hello, World!\");\n",
    "    }\n",
    "}\n",
    "\n",
    "\n",
    "```\n",
    "\n",
    "\n"
   ]
  },
  {
   "cell_type": "markdown",
   "id": "502c149d-9670-4bcd-b623-cfc44c73f5c4",
   "metadata": {},
   "source": [
    "## Why Learn Python?\n",
    "\n",
    "- **Simple and Readable Syntax**  \n",
    "  Python's clean syntax makes it easy to learn and write, even for beginners.\n",
    "\n",
    "- **Versatile and General-Purpose**  \n",
    "  Use Python for web development, data science, AI, automation, and more.\n",
    "\n",
    "- **Large Community Support**  \n",
    "  Extensive resources, tutorials, forums, and third-party libraries are available.\n",
    "\n",
    "- **Cross-Platform Compatibility**  \n",
    "  Run Python on Windows, macOS, Linux, and even mobile devices."
   ]
  },
  {
   "cell_type": "markdown",
   "id": "31257b6a-c70e-4a96-a281-65da1994521d",
   "metadata": {},
   "source": [
    "## Features of Python\n",
    "\n",
    "- **Interpreted Language**  \n",
    "  Code is executed line by line, making debugging easier.\n",
    "\n",
    "- **Dynamically Typed**  \n",
    "  No need to declare variable types explicitly.\n",
    "\n",
    "- **High-Level Language**  \n",
    "  Easy to read and understand, close to human language.\n",
    "\n",
    "- **Object-Oriented and Functional**  \n",
    "  Supports multiple programming paradigms.\n",
    "\n",
    "- **Extensive Standard Library**  \n",
    "  Built-in modules and functions simplify many tasks.\n",
    "\n",
    "- **Portable and Cross-Platform**  \n",
    "  Run the same code on different operating systems.\n",
    "\n",
    "- **Open Source**  \n",
    "  Free to use, modify, and distribute.\n"
   ]
  },
  {
   "cell_type": "markdown",
   "id": "7f7b9f79-960a-4661-ae8b-91b8ea9b0656",
   "metadata": {},
   "source": [
    "## Python Applications\n",
    "\n",
    "- **Web Development**  \n",
    "- **Data Science and Analysis**  \n",
    "- **Machine Learning and AI**  \n",
    "- **Game Development**  \n",
    "- **Mobile App**\n",
    "- **GUI**\n",
    "- **Robotics**\n",
    "- **Testing**\n",
    "- **Automation**\n",
    "- **Hacking**\n"
   ]
  },
  {
   "cell_type": "markdown",
   "id": "7367c6b2-0711-43b6-959a-32d1af3085c2",
   "metadata": {},
   "source": [
    "## Python Applications\n",
    "\n",
    "- **Web Development**  \n",
    "  Frameworks like Django, Flask, and FastAPI\n",
    "\n",
    "- **Data Science and Analysis**  \n",
    "  Libraries like pandas, NumPy, matplotlib, seaborn\n",
    "\n",
    "- **Machine Learning and AI**  \n",
    "  Tools such as TensorFlow, scikit-learn, PyTorch\n",
    "\n",
    "- **Scripting and Automation**  \n",
    "  Automate tasks with scripts and cron jobs\n",
    "\n",
    "- **Game Development**  \n",
    "  Libraries like Pygame used to build games\n",
    "\n",
    "- **Desktop Applications**  \n",
    "  Create GUIs with Tkinter, PyQt, Kivy\n",
    "\n",
    "- **Cybersecurity and Penetration Testing**  \n",
    "  Tools like Scapy and Nmap scripting\n"
   ]
  },
  {
   "cell_type": "markdown",
   "id": "29f08306-7c2b-40ae-b4e6-6472a9c4a5fd",
   "metadata": {},
   "source": [
    "## Popular Python IDEs\n",
    "\n",
    "- IDLE\n",
    "- PyCharm  \n",
    "- Visual Studio Code (VS Code)\n",
    "- Jupyter Notebook  \n",
    "- Thonny\n",
    " \n"
   ]
  },
  {
   "cell_type": "markdown",
   "id": "3a609368-591b-4463-ba95-51fee80473d6",
   "metadata": {},
   "source": [
    "## Popular Python IDEs\n",
    "\n",
    "- **IDLE**  \n",
    "  - Comes bundled with Python installation  \n",
    "  - Simple and lightweight  \n",
    "  - Good for beginners\n",
    "\n",
    "- **PyCharm**  \n",
    "  - Developed by JetBrains  \n",
    "  - Powerful features like code completion, refactoring, and debugging  \n",
    "  - Free (Community Edition) and Paid (Professional Edition)\n",
    "\n",
    "- **Visual Studio Code (VS Code)**  \n",
    "  - Lightweight and highly customizable  \n",
    "  - Python extension adds IntelliSense, linting, and debugging  \n",
    "  - Supports Git, extensions, themes\n",
    "\n",
    "- **Jupyter Notebook**  \n",
    "  - Web-based interactive environment  \n",
    "  - Ideal for data science, machine learning, and visualization  \n",
    "  - Supports live code, equations, visualizations, and markdown\n",
    "\n",
    "- **Thonny**  \n",
    "  - Designed for beginners  \n",
    "  - Simple debugger and step-by-step expression evaluation  \n",
    "  - Great for learning Python basics\n"
   ]
  },
  {
   "cell_type": "markdown",
   "id": "6b1423a7-a7ef-49e5-9c27-d2c45c976bbc",
   "metadata": {},
   "source": [
    " ## Common Python File Extensions\n",
    "\n",
    " - **file_name.py**- Standard Python script file. Contains Python source code.\n",
    " - **file_name.ipynb**- Jupyter Notebook file. Contains code, markdown, and outputs in an interactive format."
   ]
  },
  {
   "cell_type": "markdown",
   "id": "6cf63d39-c34a-45ef-8be7-b7948b53c86c",
   "metadata": {},
   "source": [
    "## 🐍 Why Use the Anaconda Platform?\n",
    "\n",
    "### ✅ 1. Pre-packaged Data Science Environment\n",
    "- Includes 250+ popular Python libraries and tools:\n",
    "  - **Data Science**: NumPy, pandas\n",
    "  - **Machine Learning**: scikit-learn, TensorFlow\n",
    "  - **Visualization**: matplotlib, seaborn\n",
    "  - **Tools**: Jupyter Notebook, Spyder\n",
    "\n",
    "### ✅ 2. Easy Package Management\n",
    "- Uses **Conda**, a powerful package and environment manager\n",
    "- Simplifies installation and version control\n",
    "- Avoids common issues with `pip` and `virtualenv`\n",
    "\n",
    "### ✅ 3. Environment Isolation\n",
    "- Create separate environments for different projects\n",
    "- Prevents package and dependency conflicts\n",
    "\n",
    "### ✅ 4. Built-in IDEs\n",
    "- Comes with **Jupyter Notebook** and **Spyder IDE**\n",
    "- No need for additional installation\n",
    "\n",
    "### ✅ 5. Cross-platform Compatibility\n",
    "- Available for **Windows**, **macOS**, and **Linux**\n",
    "\n",
    "### ✅ 6. Ideal for Beginners and Experts\n",
    "- Beginner-friendly setup process\n",
    "- Powerful enough for advanced workflows in data science and AI\n"
   ]
  },
  {
   "cell_type": "markdown",
   "id": "d9a6065f-9429-406b-89bd-800178cc38a1",
   "metadata": {},
   "source": [
    "## 🛠️ How to Install Anaconda\n",
    "\n",
    "### ✅ Step 1: Download Anaconda Installer\n",
    "- Visit the official website: [https://www.anaconda.com/products/distribution](https://www.anaconda.com/products/distribution)\n",
    "- Choose the installer for your operating system:\n",
    "  - Windows (64-bit)\n",
    "  - macOS\n",
    "  - Linux\n",
    "\n",
    "### ✅ Step 2: Run the Installer\n",
    "- **Windows**:\n",
    "  - Double-click the `.exe` file\n",
    "  - Follow the setup wizard\n",
    "  - Choose \"Add Anaconda to my PATH environment variable\" (optional but useful)\n",
    "- **macOS/Linux**:\n",
    "  - Open Terminal\n",
    "  - Navigate to the `.sh` file and run:\n",
    "    ```bash\n",
    "    bash Anaconda3-xxxx.sh\n",
    "    ```\n",
    "  - Follow the on-screen prompts\n",
    "\n",
    "### ✅ Step 3: Verify Installation\n",
    "- Open **Anaconda Navigator** or Terminal\n",
    "- Type the following command:\n",
    "  ```bash\n",
    "  conda --version\n"
   ]
  },
  {
   "cell_type": "markdown",
   "id": "16f492cc-b756-4044-9c43-472c05db4b58",
   "metadata": {},
   "source": [
    "## Writing Your First Python Program\n",
    "\n",
    "\n",
    "Example:\n",
    "\n",
    "```python\n",
    "\n",
    "print(\"Hello, World!\")\n",
    "\n",
    "```\n"
   ]
  },
  {
   "cell_type": "code",
   "execution_count": 5,
   "id": "a5358955-83c1-445c-a568-dea3480b47f7",
   "metadata": {},
   "outputs": [
    {
     "name": "stdout",
     "output_type": "stream",
     "text": [
      "Hello, World!\n"
     ]
    }
   ],
   "source": [
    "print(\"Hello, World!\")"
   ]
  },
  {
   "cell_type": "markdown",
   "id": "ae561b44-00eb-4349-83c0-173ee8106da5",
   "metadata": {},
   "source": [
    "---"
   ]
  },
  {
   "cell_type": "markdown",
   "id": "7df4cb60-ea9e-4d6c-9d59-15f0d29940e4",
   "metadata": {},
   "source": [
    "# Jupyter NoteBook"
   ]
  },
  {
   "cell_type": "markdown",
   "id": "b35bcf49-add8-4e07-bec3-1dd3e1073074",
   "metadata": {},
   "source": [
    "# What is Jupyter  Notebook\n",
    "* The Jupyter Notebook is an open-source web application that allows data scientists to create and share documents that           integrate live code, equations, computational output, visualizations, and other multimedia resources,\n",
    "\n",
    "* Uses include data cleaning and transformation, numerical simulation, statistical modeling, data visualization, machine         learning, and much more."
   ]
  },
  {
   "cell_type": "markdown",
   "id": "fba95ddc-0d4e-4484-8aee-0e023a0ab134",
   "metadata": {},
   "source": [
    "### Why Jupyter Notebook?\n",
    "\n",
    "- Interactive\n",
    "- Results/outputs are stored so it is easy to review\n",
    "- Friendly for documentation\n",
    "- No limitation from performance \n",
    "- helpful shortcuts\n",
    "- Industry standard for all data science, ML, AI projects.\n",
    "\n",
    "<p> Extension of jupyter file is ipynb (i python notebook, previous name of Jupyter) </p>"
   ]
  },
  {
   "cell_type": "markdown",
   "id": "ff66270c-3871-40b7-acb7-3c27ec8d2d33",
   "metadata": {},
   "source": [
    "---"
   ]
  },
  {
   "cell_type": "code",
   "execution_count": null,
   "id": "18214157-ce57-4c0a-9b9d-53f1e00db081",
   "metadata": {},
   "outputs": [],
   "source": []
  }
 ],
 "metadata": {
  "kernelspec": {
   "display_name": "Python 3 (ipykernel)",
   "language": "python",
   "name": "python3"
  },
  "language_info": {
   "codemirror_mode": {
    "name": "ipython",
    "version": 3
   },
   "file_extension": ".py",
   "mimetype": "text/x-python",
   "name": "python",
   "nbconvert_exporter": "python",
   "pygments_lexer": "ipython3",
   "version": "3.13.4"
  }
 },
 "nbformat": 4,
 "nbformat_minor": 5
}
