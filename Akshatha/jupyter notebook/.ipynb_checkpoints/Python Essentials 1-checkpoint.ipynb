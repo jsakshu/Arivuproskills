{
 "cells": [
  {
   "cell_type": "markdown",
   "id": "5573a58b",
   "metadata": {
    "id": "5573a58b"
   },
   "source": [
    "# What is Jupyter  Notebook\n",
    "* The Jupyter Notebook is an open-source web application that allows data scientists to create and share documents that           integrate live code, equations, computational output, visualizations, and other multimedia resources,\n",
    "\n",
    "* Uses include data cleaning and transformation, numerical simulation, statistical modeling, data visualization, machine         learning, and much more.\n"
   ]
  },
  {
   "cell_type": "markdown",
   "id": "1c454286",
   "metadata": {
    "id": "1c454286"
   },
   "source": [
    "## Tutorial\n",
    "- Interactive\n",
    "- Results/outputs are stored so it is easy to review\n",
    "- Friendly for documentation\n",
    "- No limitation from performance \n",
    "- helpful shortcuts\n",
    "- Industry standard for all data science, ML, AI projects.\n",
    "\n",
    "<p> Extension of jupyter file is ipynb (i python notebook, previous name of Jupyter) </p>\n",
    "\n"
   ]
  },
  {
   "cell_type": "markdown",
   "id": "ee8239e8",
   "metadata": {
    "id": "ee8239e8"
   },
   "source": [
    "# This is a markdown\n",
    "\n",
    "**this is bold** this is not boldewfhbwebfs\n",
    "\n"
   ]
  },
  {
   "cell_type": "raw",
   "id": "291f7652",
   "metadata": {
    "id": "291f7652"
   },
   "source": [
    "This is Raw NBConvert\n",
    "python is coding launguage\n",
    "\n",
    "This is a raw cell\n",
    "Jupyter is awesome\n",
    "\n"
   ]
  },
  {
   "cell_type": "markdown",
   "id": "ec91a308",
   "metadata": {
    "id": "ec91a308"
   },
   "source": [
    "### mode \n",
    "* Green----> edit mode(Enter button)\n",
    "* blue-----> command mode(Esc button)\n"
   ]
  },
  {
   "cell_type": "markdown",
   "id": "e6babead",
   "metadata": {
    "id": "e6babead"
   },
   "source": [
    "# Short Cuts\n",
    "\n",
    "[shift] + [enter] : run a cell\n",
    "\n",
    "Command mode:\n",
    "a : insert cell above\n",
    "\n",
    "b : insert cell below\n",
    "\n",
    "dd : delete a cell\n",
    "\n",
    "z : undo a delete cell\n",
    "\n",
    "r : convert cell to raw cell\n",
    "\n",
    "m : convert cell to Markdown cell\n",
    "\n",
    "y : convert cell to code cell\n",
    "\n",
    "c: copy a cell\n",
    "\n",
    "v : paste a cell\n",
    "\n",
    "x : cut a cell\n",
    "\n",
    "o : toggle output(To hide Output)\n",
    "\n",
    "# Edit Mode:\n",
    "\n",
    "Ctrl + C : copy a text\n",
    "\n",
    "Ctrl + V : paste\n",
    "\n",
    "Ctrl + X : cut\n",
    "\n",
    "Ctrl + Z : undo"
   ]
  },
  {
   "cell_type": "markdown",
   "id": "cd840a4f",
   "metadata": {
    "id": "cd840a4f"
   },
   "source": [
    "# Keywords\n"
   ]
  },
  {
   "cell_type": "code",
   "execution_count": 1,
   "id": "5f3721f7",
   "metadata": {
    "id": "5f3721f7"
   },
   "outputs": [],
   "source": [
    "import keyword"
   ]
  },
  {
   "cell_type": "raw",
   "id": "68afbcdd",
   "metadata": {
    "id": "68afbcdd"
   },
   "source": [
    "* Keywords are reserved words in python and can't be used as identifiers."
   ]
  },
  {
   "cell_type": "code",
   "execution_count": 2,
   "id": "0ab1d4b0",
   "metadata": {
    "colab": {
     "base_uri": "https://localhost:8080/"
    },
    "executionInfo": {
     "elapsed": 7,
     "status": "ok",
     "timestamp": 1679915408933,
     "user": {
      "displayName": "Jitendra Rathod",
      "userId": "08588782662248261812"
     },
     "user_tz": -330
    },
    "id": "0ab1d4b0",
    "outputId": "76093bce-910a-4418-f32f-3b52a7b24e2e"
   },
   "outputs": [
    {
     "name": "stdout",
     "output_type": "stream",
     "text": [
      "['False', 'None', 'True', 'and', 'as', 'assert', 'async', 'await', 'break', 'class', 'continue', 'def', 'del', 'elif', 'else', 'except', 'finally', 'for', 'from', 'global', 'if', 'import', 'in', 'is', 'lambda', 'nonlocal', 'not', 'or', 'pass', 'raise', 'return', 'try', 'while', 'with', 'yield']\n"
     ]
    }
   ],
   "source": [
    "print(keyword.kwlist)  # It will give all keywords of python"
   ]
  },
  {
   "cell_type": "code",
   "execution_count": 3,
   "id": "7a9ef08d",
   "metadata": {
    "collapsed": true,
    "id": "7a9ef08d"
   },
   "outputs": [
    {
     "data": {
      "text/plain": [
       "35"
      ]
     },
     "execution_count": 3,
     "metadata": {},
     "output_type": "execute_result"
    }
   ],
   "source": [
    "len(keyword.kwlist)"
   ]
  },
  {
   "cell_type": "code",
   "execution_count": 4,
   "id": "ad9ddc0c",
   "metadata": {
    "collapsed": true
   },
   "outputs": [
    {
     "ename": "SyntaxError",
     "evalue": "invalid syntax (2150324871.py, line 1)",
     "output_type": "error",
     "traceback": [
      "\u001b[1;36m  Cell \u001b[1;32mIn[4], line 1\u001b[1;36m\u001b[0m\n\u001b[1;33m    finally  # This is a Keyword #Keywords are in Bold Green Colour\u001b[0m\n\u001b[1;37m    ^\u001b[0m\n\u001b[1;31mSyntaxError\u001b[0m\u001b[1;31m:\u001b[0m invalid syntax\n"
     ]
    }
   ],
   "source": [
    "finally  # This is a Keyword #Keywords are in Bold Green Colour"
   ]
  },
  {
   "cell_type": "markdown",
   "id": "c15e70c8",
   "metadata": {
    "id": "c15e70c8"
   },
   "source": [
    "# Identifiers"
   ]
  },
  {
   "cell_type": "markdown",
   "id": "41911e15",
   "metadata": {
    "id": "41911e15"
   },
   "source": [
    "* An identifier is the name given to entities like functions,variables etc.\n",
    "* It helps in differentiating one entity from other."
   ]
  },
  {
   "cell_type": "code",
   "execution_count": 5,
   "id": "66cb1403",
   "metadata": {
    "collapsed": true,
    "id": "66cb1403"
   },
   "outputs": [
    {
     "ename": "SyntaxError",
     "evalue": "invalid decimal literal (1369473004.py, line 1)",
     "output_type": "error",
     "traceback": [
      "\u001b[1;36m  Cell \u001b[1;32mIn[5], line 1\u001b[1;36m\u001b[0m\n\u001b[1;33m    12var = 34  #identifier can not be initaite with digit.\u001b[0m\n\u001b[1;37m     ^\u001b[0m\n\u001b[1;31mSyntaxError\u001b[0m\u001b[1;31m:\u001b[0m invalid decimal literal\n"
     ]
    }
   ],
   "source": [
    "12var = 34  #identifier can not be initaite with digit."
   ]
  },
  {
   "cell_type": "code",
   "execution_count": 7,
   "id": "c100d47b",
   "metadata": {
    "collapsed": true,
    "id": "c100d47b"
   },
   "outputs": [
    {
     "ename": "SyntaxError",
     "evalue": "cannot assign to expression here. Maybe you meant '==' instead of '='? (1720856310.py, line 1)",
     "output_type": "error",
     "traceback": [
      "\u001b[1;36m  Cell \u001b[1;32mIn[7], line 1\u001b[1;36m\u001b[0m\n\u001b[1;33m    var@123 = 'abc' # Identifer cannot use special symbol\u001b[0m\n\u001b[1;37m    ^\u001b[0m\n\u001b[1;31mSyntaxError\u001b[0m\u001b[1;31m:\u001b[0m cannot assign to expression here. Maybe you meant '==' instead of '='?\n"
     ]
    }
   ],
   "source": [
    "var@123 = 'abc' # Identifer cannot use special symbol "
   ]
  },
  {
   "cell_type": "code",
   "execution_count": 8,
   "id": "57ac31ff",
   "metadata": {
    "collapsed": true,
    "id": "57ac31ff"
   },
   "outputs": [
    {
     "ename": "SyntaxError",
     "evalue": "invalid syntax (4267806053.py, line 1)",
     "output_type": "error",
     "traceback": [
      "\u001b[1;36m  Cell \u001b[1;32mIn[8], line 1\u001b[1;36m\u001b[0m\n\u001b[1;33m    import=123 # Keywords cannot be used as identifier\u001b[0m\n\u001b[1;37m          ^\u001b[0m\n\u001b[1;31mSyntaxError\u001b[0m\u001b[1;31m:\u001b[0m invalid syntax\n"
     ]
    }
   ],
   "source": [
    "import=123 # Keywords cannot be used as identifier"
   ]
  },
  {
   "attachments": {
    "Indentifier.png": {
     "image/png": "[encoded data removed]"
    }
   },
   "cell_type": "markdown",
   "id": "94cf65ed",
   "metadata": {},
   "source": [
    "![Indentifier.png](attachment:Indentifier.png)"
   ]
  },
  {
   "cell_type": "code",
   "execution_count": 6,
   "id": "2bba50bc",
   "metadata": {
    "id": "2bba50bc"
   },
   "outputs": [
    {
     "name": "stdout",
     "output_type": "stream",
     "text": [
      "21\n"
     ]
    }
   ],
   "source": [
    "\"\"\"\n",
    "Correct way of defining an identifier\n",
    "(Identifiers can be a combination of letters in lowercase (a to z) or uppercase \n",
    "and only special chararcter allowed is _ )\"\"\"\n",
    "\n",
    "var = 21 #var is entity called as variable has been created and assigned with value of 2\n",
    "print(var)"
   ]
  },
  {
   "cell_type": "code",
   "execution_count": 7,
   "id": "1f250660",
   "metadata": {
    "id": "1f250660"
   },
   "outputs": [
    {
     "name": "stdout",
     "output_type": "stream",
     "text": [
      "99\n"
     ]
    }
   ],
   "source": [
    "VAR = 99\n",
    "print(VAR)"
   ]
  },
  {
   "cell_type": "code",
   "execution_count": 13,
   "id": "683313e3",
   "metadata": {
    "collapsed": true,
    "id": "683313e3"
   },
   "outputs": [
    {
     "name": "stdout",
     "output_type": "stream",
     "text": [
      "Data is Money\n"
     ]
    }
   ],
   "source": [
    "var_12 = 'Data is Money'\n",
    "print(var_12)"
   ]
  },
  {
   "cell_type": "markdown",
   "id": "97b903b7",
   "metadata": {
    "id": "97b903b7"
   },
   "source": [
    "# Comments"
   ]
  },
  {
   "cell_type": "markdown",
   "id": "d915980a",
   "metadata": {
    "id": "d915980a"
   },
   "source": [
    "* Comments can be used to explain the code for more readabilty.\n",
    "* Comments are ignored by Python Kernel."
   ]
  },
  {
   "cell_type": "code",
   "execution_count": 10,
   "id": "bba78a99",
   "metadata": {
    "id": "bba78a99"
   },
   "outputs": [],
   "source": [
    "# Single line comment\n",
    "val2 = 10 #val2 is intialized with value 10"
   ]
  },
  {
   "cell_type": "code",
   "execution_count": 11,
   "id": "1ca2252d",
   "metadata": {
    "collapsed": true,
    "id": "1ca2252d"
   },
   "outputs": [
    {
     "data": {
      "text/plain": [
       "10"
      ]
     },
     "execution_count": 11,
     "metadata": {},
     "output_type": "execute_result"
    }
   ],
   "source": [
    "val2"
   ]
  },
  {
   "cell_type": "code",
   "execution_count": null,
   "id": "2f772d53",
   "metadata": {
    "id": "2f772d53"
   },
   "outputs": [],
   "source": [
    "# Multiple \n",
    "# Line\n",
    "# Comment\n",
    "val1 = 10"
   ]
  },
  {
   "cell_type": "code",
   "execution_count": 12,
   "id": "31a80171",
   "metadata": {
    "id": "31a80171"
   },
   "outputs": [],
   "source": [
    "'''\n",
    "Multiple line\n",
    "comment or Docstring'''\n",
    "val1 = \"Pyhton\""
   ]
  },
  {
   "cell_type": "code",
   "execution_count": null,
   "id": "2e10e922",
   "metadata": {
    "id": "2e10e922"
   },
   "outputs": [],
   "source": [
    "val1"
   ]
  },
  {
   "cell_type": "markdown",
   "id": "a76869bd",
   "metadata": {
    "id": "a76869bd"
   },
   "source": [
    "# Statements"
   ]
  },
  {
   "cell_type": "markdown",
   "id": "8bf438c4",
   "metadata": {
    "id": "8bf438c4"
   },
   "source": [
    "* Instructions that a Python interpreter can execute."
   ]
  },
  {
   "cell_type": "code",
   "execution_count": 17,
   "id": "d8e2649e",
   "metadata": {
    "collapsed": true,
    "id": "d8e2649e"
   },
   "outputs": [
    {
     "ename": "NameError",
     "evalue": "name 'fdgdhdhdhdh' is not defined",
     "output_type": "error",
     "traceback": [
      "\u001b[1;31m---------------------------------------------------------------------------\u001b[0m",
      "\u001b[1;31mNameError\u001b[0m                                 Traceback (most recent call last)",
      "Cell \u001b[1;32mIn[17], line 1\u001b[0m\n\u001b[1;32m----> 1\u001b[0m fdgdhdhdhdh\n",
      "\u001b[1;31mNameError\u001b[0m: name 'fdgdhdhdhdh' is not defined"
     ]
    }
   ],
   "source": [
    "fdgdhdhdhdh # Wrong Statement"
   ]
  },
  {
   "cell_type": "code",
   "execution_count": 16,
   "id": "7743442b",
   "metadata": {
    "collapsed": true,
    "id": "7743442b"
   },
   "outputs": [
    {
     "data": {
      "text/plain": [
       "5"
      ]
     },
     "execution_count": 16,
     "metadata": {},
     "output_type": "execute_result"
    }
   ],
   "source": [
    "2+3"
   ]
  },
  {
   "cell_type": "code",
   "execution_count": 21,
   "id": "49b580e9",
   "metadata": {
    "collapsed": true,
    "id": "49b580e9"
   },
   "outputs": [
    {
     "data": {
      "text/plain": [
       "'Hello World'"
      ]
     },
     "execution_count": 21,
     "metadata": {},
     "output_type": "execute_result"
    }
   ],
   "source": [
    "# Single line statement\n",
    "p2 = \"Hello World\"\n",
    "p2"
   ]
  },
  {
   "cell_type": "code",
   "execution_count": 19,
   "id": "0465af83",
   "metadata": {
    "collapsed": true,
    "id": "0465af83"
   },
   "outputs": [
    {
     "data": {
      "text/plain": [
       "290"
      ]
     },
     "execution_count": 19,
     "metadata": {},
     "output_type": "execute_result"
    }
   ],
   "source": [
    "# Multiple line statement\n",
    "p1 = 20 + 30 \\\n",
    "+  40  +  50  \\\n",
    "+ 70 + 80\n",
    "p1"
   ]
  },
  {
   "cell_type": "markdown",
   "id": "a48922a0",
   "metadata": {
    "id": "a48922a0"
   },
   "source": [
    "# Variables"
   ]
  },
  {
   "cell_type": "markdown",
   "id": "33961071",
   "metadata": {
    "id": "33961071"
   },
   "source": [
    "*  A Python variable is a reserved memory location to store values.\n",
    "* A variable is created the moment you first assign a value to it.\n"
   ]
  },
  {
   "cell_type": "code",
   "execution_count": 25,
   "id": "85427289",
   "metadata": {
    "id": "85427289"
   },
   "outputs": [],
   "source": [
    "k=30 ## variable creation"
   ]
  },
  {
   "cell_type": "code",
   "execution_count": 26,
   "id": "3670495c",
   "metadata": {
    "collapsed": true,
    "id": "3670495c"
   },
   "outputs": [
    {
     "data": {
      "text/plain": [
       "30"
      ]
     },
     "execution_count": 26,
     "metadata": {},
     "output_type": "execute_result"
    }
   ],
   "source": [
    "k ## calling of variable"
   ]
  },
  {
   "cell_type": "code",
   "execution_count": 27,
   "id": "fd3cbba9",
   "metadata": {
    "id": "fd3cbba9"
   },
   "outputs": [
    {
     "name": "stdout",
     "output_type": "stream",
     "text": [
      "30\n"
     ]
    }
   ],
   "source": [
    "print(k) ## print the variable"
   ]
  },
  {
   "cell_type": "code",
   "execution_count": 28,
   "id": "ad65dafa",
   "metadata": {
    "collapsed": true,
    "id": "ad65dafa"
   },
   "outputs": [
    {
     "name": "stdout",
     "output_type": "stream",
     "text": [
      "This is print function\n"
     ]
    }
   ],
   "source": [
    "print('This is print function')"
   ]
  },
  {
   "cell_type": "code",
   "execution_count": 29,
   "id": "f758df5c",
   "metadata": {
    "collapsed": true,
    "id": "f758df5c"
   },
   "outputs": [
    {
     "name": "stdout",
     "output_type": "stream",
     "text": [
      "This is print function with double quotes\n"
     ]
    }
   ],
   "source": [
    "print(\"This is print function with double quotes\")"
   ]
  },
  {
   "cell_type": "code",
   "execution_count": 30,
   "id": "ace0954e",
   "metadata": {
    "collapsed": true,
    "id": "ace0954e"
   },
   "outputs": [
    {
     "name": "stdout",
     "output_type": "stream",
     "text": [
      "12\n"
     ]
    }
   ],
   "source": [
    "print(12)"
   ]
  },
  {
   "cell_type": "code",
   "execution_count": 31,
   "id": "fdc032dd",
   "metadata": {
    "collapsed": true,
    "id": "fdc032dd"
   },
   "outputs": [
    {
     "name": "stdout",
     "output_type": "stream",
     "text": [
      "x\n"
     ]
    }
   ],
   "source": [
    "print(\"x\")"
   ]
  },
  {
   "cell_type": "code",
   "execution_count": 32,
   "id": "016fda5e",
   "metadata": {
    "collapsed": true,
    "id": "016fda5e"
   },
   "outputs": [
    {
     "data": {
      "text/plain": [
       "int"
      ]
     },
     "execution_count": 32,
     "metadata": {},
     "output_type": "execute_result"
    }
   ],
   "source": [
    "type(k) # To know the datatype of python objects"
   ]
  },
  {
   "cell_type": "code",
   "execution_count": 33,
   "id": "98af36cc",
   "metadata": {
    "id": "98af36cc"
   },
   "outputs": [],
   "source": [
    "b=35.5"
   ]
  },
  {
   "cell_type": "code",
   "execution_count": 34,
   "id": "c2f1ec0d",
   "metadata": {
    "collapsed": true,
    "id": "c2f1ec0d"
   },
   "outputs": [
    {
     "data": {
      "text/plain": [
       "float"
      ]
     },
     "execution_count": 34,
     "metadata": {},
     "output_type": "execute_result"
    }
   ],
   "source": [
    "type(b)"
   ]
  },
  {
   "cell_type": "code",
   "execution_count": 35,
   "id": "14026be1",
   "metadata": {
    "collapsed": true,
    "id": "14026be1"
   },
   "outputs": [
    {
     "data": {
      "text/plain": [
       "bool"
      ]
     },
     "execution_count": 35,
     "metadata": {},
     "output_type": "execute_result"
    }
   ],
   "source": [
    "c=True\n",
    "type(c)"
   ]
  },
  {
   "cell_type": "code",
   "execution_count": 36,
   "id": "fcdefe0b",
   "metadata": {
    "collapsed": true,
    "id": "fcdefe0b"
   },
   "outputs": [
    {
     "data": {
      "text/plain": [
       "str"
      ]
     },
     "execution_count": 36,
     "metadata": {},
     "output_type": "execute_result"
    }
   ],
   "source": [
    "d='abcs'\n",
    "type(d)"
   ]
  },
  {
   "cell_type": "markdown",
   "id": "c4e3a2d2",
   "metadata": {
    "id": "c4e3a2d2"
   },
   "source": [
    "# Variable Assignment"
   ]
  },
  {
   "cell_type": "code",
   "execution_count": null,
   "id": "f741d376",
   "metadata": {
    "id": "f741d376",
    "scrolled": true
   },
   "outputs": [],
   "source": [
    "intvar = 10 # Integer variable\n",
    "floatvar = 2.57 # Float Variable\n",
    "strvar = \"Python Language\" # String variable\n",
    "print(intvar)\n",
    "print(floatvar)\n",
    "print(strvar)"
   ]
  },
  {
   "cell_type": "markdown",
   "id": "aff84426",
   "metadata": {
    "id": "aff84426"
   },
   "source": [
    "# Multiple Assignment"
   ]
  },
  {
   "cell_type": "code",
   "execution_count": null,
   "id": "d4683b2a",
   "metadata": {
    "id": "d4683b2a",
    "scrolled": true
   },
   "outputs": [],
   "source": [
    "intvar , floatvar , strvar = 10,2.57,\"Python Language\" \n",
    "# Using commas to separate variables\n",
    "print(intvar)\n",
    "print(floatvar)\n",
    "print(strvar)"
   ]
  },
  {
   "cell_type": "code",
   "execution_count": null,
   "id": "f486c066",
   "metadata": {
    "id": "f486c066"
   },
   "outputs": [],
   "source": [
    "print(intvar,floatvar,strvar)"
   ]
  },
  {
   "cell_type": "code",
   "execution_count": null,
   "id": "1644ff55",
   "metadata": {
    "id": "1644ff55",
    "scrolled": true
   },
   "outputs": [],
   "source": [
    "p1 = p2 = p3 = p4 = 44 \n",
    "# All variables pointing to same value\n",
    "print(p1,p2,p3,p4)"
   ]
  },
  {
   "cell_type": "markdown",
   "id": "37f99688",
   "metadata": {
    "id": "37f99688"
   },
   "source": [
    "# Data Types"
   ]
  },
  {
   "cell_type": "markdown",
   "id": "5a9a8cd3",
   "metadata": {
    "id": "5a9a8cd3"
   },
   "source": [
    "## Numeric "
   ]
  },
  {
   "cell_type": "code",
   "execution_count": null,
   "id": "3217d802",
   "metadata": {
    "id": "3217d802"
   },
   "outputs": [],
   "source": [
    "import sys"
   ]
  },
  {
   "cell_type": "code",
   "execution_count": null,
   "id": "2fa04823",
   "metadata": {
    "id": "2fa04823"
   },
   "outputs": [],
   "source": [
    "val2 = 92.78 # Float data type\n",
    "print(val2)\n",
    "print(type(val2)) # type of object\n",
    "print(sys.getsizeof(val2)) # size of float object in bytes\n",
    "print(val2, \" is float?\", isinstance(val2, float)) # Val2 is an instance of float"
   ]
  },
  {
   "cell_type": "code",
   "execution_count": null,
   "id": "61eda00f",
   "metadata": {
    "id": "61eda00f"
   },
   "outputs": [],
   "source": [
    "val3 = 25 + 10j # Complex data type\n",
    "print(val3)\n",
    "print(type(val3)) # type of object\n",
    "print(sys.getsizeof(val3)) # size of float object in bytes\n",
    "print(val3, \" is complex?\", isinstance(val3, complex)) # val3 is an instance of complex"
   ]
  },
  {
   "cell_type": "markdown",
   "id": "d7c74ac7",
   "metadata": {
    "id": "d7c74ac7"
   },
   "source": [
    "## Boolean"
   ]
  },
  {
   "cell_type": "markdown",
   "id": "807bb3c7",
   "metadata": {
    "id": "807bb3c7"
   },
   "source": [
    "* Boolean data type can have only two possible values true or false."
   ]
  },
  {
   "cell_type": "code",
   "execution_count": null,
   "id": "052cf431",
   "metadata": {
    "id": "052cf431"
   },
   "outputs": [],
   "source": [
    "bool1=True"
   ]
  },
  {
   "cell_type": "code",
   "execution_count": null,
   "id": "9cb97c89",
   "metadata": {
    "id": "9cb97c89"
   },
   "outputs": [],
   "source": [
    "bool2=False"
   ]
  },
  {
   "cell_type": "code",
   "execution_count": null,
   "id": "0f453174",
   "metadata": {
    "id": "0f453174"
   },
   "outputs": [],
   "source": [
    "type(bool1)"
   ]
  },
  {
   "cell_type": "code",
   "execution_count": null,
   "id": "6211346a",
   "metadata": {
    "id": "6211346a"
   },
   "outputs": [],
   "source": [
    "isinstance(bool1, bool)"
   ]
  },
  {
   "cell_type": "code",
   "execution_count": null,
   "id": "8c600c49",
   "metadata": {
    "id": "8c600c49"
   },
   "outputs": [],
   "source": [
    "bool(0)"
   ]
  },
  {
   "cell_type": "code",
   "execution_count": null,
   "id": "5b17409e",
   "metadata": {
    "id": "5b17409e"
   },
   "outputs": [],
   "source": [
    "bool(-98) # Anything apart from 0 everything is True"
   ]
  },
  {
   "cell_type": "markdown",
   "id": "b40a9db7",
   "metadata": {
    "id": "b40a9db7"
   },
   "source": [
    "## String"
   ]
  },
  {
   "cell_type": "markdown",
   "id": "6580adac",
   "metadata": {
    "id": "6580adac"
   },
   "source": [
    "###  String creation"
   ]
  },
  {
   "cell_type": "code",
   "execution_count": null,
   "id": "54346673",
   "metadata": {
    "id": "54346673"
   },
   "outputs": [],
   "source": [
    "str1 = \"HELLO PYTHON\"\n",
    "print(str1)"
   ]
  },
  {
   "cell_type": "code",
   "execution_count": null,
   "id": "34012e79",
   "metadata": {
    "id": "34012e79"
   },
   "outputs": [],
   "source": [
    "mystr = 'Hello World' # Define string using single quotes\n",
    "print(mystr)"
   ]
  },
  {
   "cell_type": "markdown",
   "id": "21e9ae35",
   "metadata": {
    "id": "21e9ae35"
   },
   "source": [
    "### String indexing"
   ]
  },
  {
   "cell_type": "code",
   "execution_count": null,
   "id": "cd4091f8",
   "metadata": {
    "id": "cd4091f8",
    "scrolled": true
   },
   "outputs": [],
   "source": [
    "str1='HELLO PYTHON'"
   ]
  },
  {
   "cell_type": "code",
   "execution_count": null,
   "id": "bb12a213",
   "metadata": {
    "id": "bb12a213"
   },
   "outputs": [],
   "source": [
    "str1[5] # First character in string \"str1\"\n"
   ]
  },
  {
   "cell_type": "code",
   "execution_count": null,
   "id": "dead0eea",
   "metadata": {
    "id": "dead0eea"
   },
   "outputs": [],
   "source": [
    "str1[-7]"
   ]
  },
  {
   "cell_type": "code",
   "execution_count": null,
   "id": "f4bc7dfc",
   "metadata": {
    "id": "f4bc7dfc"
   },
   "outputs": [],
   "source": [
    "len(str1) # Number of elements in given string."
   ]
  },
  {
   "cell_type": "code",
   "execution_count": null,
   "id": "2e238e59",
   "metadata": {
    "id": "2e238e59"
   },
   "outputs": [],
   "source": [
    "str1[len(str1)-1] # Last character in string using len functio"
   ]
  },
  {
   "cell_type": "code",
   "execution_count": null,
   "id": "686c1440",
   "metadata": {
    "id": "686c1440"
   },
   "outputs": [],
   "source": [
    "str1[-1] # Last character in string\n"
   ]
  },
  {
   "cell_type": "code",
   "execution_count": null,
   "id": "ae641b47",
   "metadata": {
    "id": "ae641b47"
   },
   "outputs": [],
   "source": [
    "str1[11]"
   ]
  },
  {
   "cell_type": "code",
   "execution_count": null,
   "id": "123531e7",
   "metadata": {
    "id": "123531e7"
   },
   "outputs": [],
   "source": [
    "str1[6] #Fetch 7th element of the string"
   ]
  },
  {
   "cell_type": "code",
   "execution_count": null,
   "id": "47f9ed1c",
   "metadata": {
    "id": "47f9ed1c"
   },
   "outputs": [],
   "source": [
    "str1[5]"
   ]
  },
  {
   "cell_type": "markdown",
   "id": "617e14ce",
   "metadata": {
    "id": "617e14ce"
   },
   "source": [
    "### String Slicing"
   ]
  },
  {
   "cell_type": "code",
   "execution_count": null,
   "id": "03b4199e",
   "metadata": {
    "id": "03b4199e"
   },
   "outputs": [],
   "source": [
    "str1='HELLO PYTHON'"
   ]
  },
  {
   "cell_type": "code",
   "execution_count": null,
   "id": "803eef0b",
   "metadata": {
    "id": "803eef0b"
   },
   "outputs": [],
   "source": [
    "str1"
   ]
  },
  {
   "cell_type": "code",
   "execution_count": null,
   "id": "51e851cb",
   "metadata": {
    "id": "51e851cb"
   },
   "outputs": [],
   "source": [
    "str1[0:5] ## start:end"
   ]
  },
  {
   "cell_type": "code",
   "execution_count": null,
   "id": "8146ce76",
   "metadata": {
    "id": "8146ce76"
   },
   "outputs": [],
   "source": [
    "str1"
   ]
  },
  {
   "cell_type": "code",
   "execution_count": null,
   "id": "0882fb00",
   "metadata": {
    "id": "0882fb00"
   },
   "outputs": [],
   "source": [
    "str2='Data is new fuel'\n",
    "# Task:-Extract new and data from above string"
   ]
  },
  {
   "cell_type": "code",
   "execution_count": null,
   "id": "ed2661d2",
   "metadata": {
    "collapsed": true,
    "id": "ed2661d2",
    "outputId": "a91a95d2-6843-4417-981b-3dbc5fc4b82c"
   },
   "outputs": [
    {
     "data": {
      "text/plain": [
       "'HELLO PYTHON'"
      ]
     },
     "execution_count": 2,
     "metadata": {},
     "output_type": "execute_result"
    }
   ],
   "source": [
    "str1[:]"
   ]
  },
  {
   "cell_type": "code",
   "execution_count": null,
   "id": "23b33ead",
   "metadata": {
    "collapsed": true,
    "id": "23b33ead",
    "outputId": "6632b0cd-c8ae-4bd2-dd2e-f3493f46d40e"
   },
   "outputs": [
    {
     "data": {
      "text/plain": [
       "'LO PYTHON'"
      ]
     },
     "execution_count": 3,
     "metadata": {},
     "output_type": "execute_result"
    }
   ],
   "source": [
    "str1[3:]"
   ]
  },
  {
   "cell_type": "code",
   "execution_count": null,
   "id": "d4627050",
   "metadata": {
    "collapsed": true,
    "id": "d4627050",
    "outputId": "5c27554e-12c7-4311-9651-0b097abd0119"
   },
   "outputs": [
    {
     "data": {
      "text/plain": [
       "'HELLO '"
      ]
     },
     "execution_count": 4,
     "metadata": {},
     "output_type": "execute_result"
    }
   ],
   "source": [
    "str1[:6]"
   ]
  },
  {
   "cell_type": "code",
   "execution_count": null,
   "id": "3fe62f83",
   "metadata": {
    "collapsed": true,
    "id": "3fe62f83",
    "outputId": "ae0bad63-ac64-4cc0-d7a1-85acc37a68a9"
   },
   "outputs": [
    {
     "data": {
      "text/plain": [
       "'HELLO PYTHON'"
      ]
     },
     "execution_count": 5,
     "metadata": {},
     "output_type": "execute_result"
    }
   ],
   "source": [
    "str1"
   ]
  },
  {
   "cell_type": "code",
   "execution_count": null,
   "id": "dae41c90",
   "metadata": {
    "collapsed": true,
    "id": "dae41c90",
    "outputId": "0ca6b4a9-3f3b-4b83-fa91-6ddbf4ed3866"
   },
   "outputs": [
    {
     "data": {
      "text/plain": [
       "''"
      ]
     },
     "execution_count": 6,
     "metadata": {},
     "output_type": "execute_result"
    }
   ],
   "source": [
    "str1[-5:-10]"
   ]
  },
  {
   "cell_type": "code",
   "execution_count": null,
   "id": "5b8ffccc",
   "metadata": {
    "collapsed": true,
    "id": "5b8ffccc",
    "outputId": "35ec8739-4c94-4b99-cdbf-f6bb28b14f8d"
   },
   "outputs": [
    {
     "data": {
      "text/plain": [
       "'LLO P'"
      ]
     },
     "execution_count": 7,
     "metadata": {},
     "output_type": "execute_result"
    }
   ],
   "source": [
    "str1[-10:-5]"
   ]
  },
  {
   "cell_type": "code",
   "execution_count": null,
   "id": "d5094f73",
   "metadata": {
    "id": "d5094f73"
   },
   "outputs": [],
   "source": [
    "str1"
   ]
  },
  {
   "cell_type": "code",
   "execution_count": null,
   "id": "27040e35",
   "metadata": {
    "id": "27040e35",
    "outputId": "c62e63e0-645a-4d0b-b069-f4afdd3b20ee"
   },
   "outputs": [
    {
     "data": {
      "text/plain": [
       "'NHY LE'"
      ]
     },
     "execution_count": 13,
     "metadata": {},
     "output_type": "execute_result"
    }
   ],
   "source": [
    "# str1[start:end:step]\n",
    "\n",
    "str1[::-2]"
   ]
  },
  {
   "cell_type": "markdown",
   "id": "26ea1f22",
   "metadata": {
    "id": "26ea1f22"
   },
   "source": [
    "### Update and Delete string"
   ]
  },
  {
   "cell_type": "markdown",
   "id": "8be8dec6",
   "metadata": {
    "id": "8be8dec6"
   },
   "source": [
    "* Strings are immutable which means elements of a\n",
    "string cannot be changed once the they are assigned with\n",
    "any values\n"
   ]
  },
  {
   "cell_type": "code",
   "execution_count": null,
   "id": "b48e5be5",
   "metadata": {
    "colab": {
     "base_uri": "https://localhost:8080/",
     "height": 35
    },
    "executionInfo": {
     "elapsed": 375,
     "status": "ok",
     "timestamp": 1652333659162,
     "user": {
      "displayName": "Rohan Ravindra Sohani",
      "userId": "06993368347103045844"
     },
     "user_tz": -330
    },
    "id": "b48e5be5",
    "outputId": "f8f4a315-df4a-400f-bd1b-db504b7fa72c"
   },
   "outputs": [
    {
     "data": {
      "text/plain": [
       "'HELLO PYTHON'"
      ]
     },
     "execution_count": 2,
     "metadata": {},
     "output_type": "execute_result"
    }
   ],
   "source": [
    "str1"
   ]
  },
  {
   "cell_type": "code",
   "execution_count": null,
   "id": "67aec6de",
   "metadata": {
    "collapsed": true,
    "id": "67aec6de",
    "outputId": "bbe9bfad-27fe-4147-a26a-9bc6fef16d4e"
   },
   "outputs": [
    {
     "ename": "TypeError",
     "evalue": "'str' object does not support item assignment",
     "output_type": "error",
     "traceback": [
      "\u001b[0;31m---------------------------------------------------------------------------\u001b[0m",
      "\u001b[0;31mTypeError\u001b[0m                                 Traceback (most recent call last)",
      "\u001b[0;32m/var/folders/3w/qgrjz9016jd1t5gx01np29gw0000gn/T/ipykernel_6543/254998124.py\u001b[0m in \u001b[0;36m<module>\u001b[0;34m\u001b[0m\n\u001b[0;32m----> 1\u001b[0;31m \u001b[0mstr1\u001b[0m\u001b[0;34m[\u001b[0m\u001b[0;36m0\u001b[0m\u001b[0;34m:\u001b[0m\u001b[0;36m2\u001b[0m\u001b[0;34m]\u001b[0m\u001b[0;34m=\u001b[0m\u001b[0;34m'HI'\u001b[0m\u001b[0;34m\u001b[0m\u001b[0;34m\u001b[0m\u001b[0m\n\u001b[0m",
      "\u001b[0;31mTypeError\u001b[0m: 'str' object does not support item assignment"
     ]
    }
   ],
   "source": [
    "str1[0:2]='HI'\n"
   ]
  },
  {
   "cell_type": "code",
   "execution_count": null,
   "id": "23c958e1",
   "metadata": {
    "id": "23c958e1"
   },
   "outputs": [],
   "source": [
    "str3=str1.replace('HE','HI') \n",
    "# string.replace('character to replace','by what value \n",
    "#the character should be replaced')"
   ]
  },
  {
   "cell_type": "code",
   "execution_count": null,
   "id": "b5d233be",
   "metadata": {
    "id": "b5d233be",
    "outputId": "fecbf57e-d5fb-4ebf-cf2d-0ed203966881"
   },
   "outputs": [
    {
     "data": {
      "text/plain": [
       "'HELLO PYTHON'"
      ]
     },
     "execution_count": 6,
     "metadata": {},
     "output_type": "execute_result"
    }
   ],
   "source": [
    "str1"
   ]
  },
  {
   "cell_type": "code",
   "execution_count": null,
   "id": "10f2206b",
   "metadata": {
    "id": "10f2206b",
    "outputId": "0bb006a3-51bb-4725-b6b7-edf1c4804e45"
   },
   "outputs": [
    {
     "data": {
      "text/plain": [
       "'HILLO PYTHON'"
      ]
     },
     "execution_count": 7,
     "metadata": {},
     "output_type": "execute_result"
    }
   ],
   "source": [
    "str3"
   ]
  },
  {
   "cell_type": "code",
   "execution_count": null,
   "id": "14da5e50",
   "metadata": {
    "id": "14da5e50",
    "scrolled": true
   },
   "outputs": [],
   "source": [
    "del str1 # Delete a string\n",
    "\n"
   ]
  },
  {
   "cell_type": "code",
   "execution_count": null,
   "id": "1500df89",
   "metadata": {
    "collapsed": true,
    "id": "1500df89",
    "outputId": "3c7d0308-417d-4f08-c489-c50db8416f5a"
   },
   "outputs": [
    {
     "ename": "NameError",
     "evalue": "name 'str1' is not defined",
     "output_type": "error",
     "traceback": [
      "\u001b[0;31m---------------------------------------------------------------------------\u001b[0m",
      "\u001b[0;31mNameError\u001b[0m                                 Traceback (most recent call last)",
      "\u001b[0;32m/var/folders/3w/qgrjz9016jd1t5gx01np29gw0000gn/T/ipykernel_6543/934771681.py\u001b[0m in \u001b[0;36m<module>\u001b[0;34m\u001b[0m\n\u001b[0;32m----> 1\u001b[0;31m \u001b[0mstr1\u001b[0m\u001b[0;34m\u001b[0m\u001b[0;34m\u001b[0m\u001b[0m\n\u001b[0m",
      "\u001b[0;31mNameError\u001b[0m: name 'str1' is not defined"
     ]
    }
   ],
   "source": [
    "str1"
   ]
  },
  {
   "cell_type": "markdown",
   "id": "b5b59f30",
   "metadata": {
    "id": "b5b59f30"
   },
   "source": [
    "### String concatenation\n"
   ]
  },
  {
   "cell_type": "code",
   "execution_count": null,
   "id": "4c2cc25b",
   "metadata": {
    "id": "4c2cc25b"
   },
   "outputs": [],
   "source": [
    "#  String concatenation\n",
    "s1 = \"Data\"\n",
    "s2 = \"Science\"\n",
    "s3=s1 + s2"
   ]
  },
  {
   "cell_type": "code",
   "execution_count": null,
   "id": "8b12292c",
   "metadata": {
    "id": "8b12292c",
    "outputId": "73dee9a1-3707-4d46-c63f-dbfb92b5966c"
   },
   "outputs": [
    {
     "data": {
      "text/plain": [
       "5"
      ]
     },
     "execution_count": 12,
     "metadata": {},
     "output_type": "execute_result"
    }
   ],
   "source": [
    "2+3"
   ]
  },
  {
   "cell_type": "code",
   "execution_count": null,
   "id": "668e22ee",
   "metadata": {
    "colab": {
     "base_uri": "https://localhost:8080/"
    },
    "executionInfo": {
     "elapsed": 417,
     "status": "ok",
     "timestamp": 1652333748044,
     "user": {
      "displayName": "Rohan Ravindra Sohani",
      "userId": "06993368347103045844"
     },
     "user_tz": -330
    },
    "id": "668e22ee",
    "outputId": "55d48f26-217b-4b97-ff00-d42ac2650078",
    "scrolled": true
   },
   "outputs": [
    {
     "data": {
      "text/plain": [
       "'datascience'"
      ]
     },
     "execution_count": 14,
     "metadata": {},
     "output_type": "execute_result"
    }
   ],
   "source": [
    "'data'+'science'"
   ]
  },
  {
   "cell_type": "code",
   "execution_count": null,
   "id": "b9a1bc0e",
   "metadata": {
    "id": "b9a1bc0e"
   },
   "outputs": [],
   "source": [
    "#  String concatenation\n",
    "s1 = \"Data\"\n",
    "s2 = \"Science\"\n",
    "s3 = s1 +\" \"+ s2"
   ]
  },
  {
   "cell_type": "code",
   "execution_count": null,
   "id": "d8f423bd",
   "metadata": {
    "id": "d8f423bd",
    "outputId": "e95613ce-7eba-4ea3-be39-6207fb018878"
   },
   "outputs": [
    {
     "name": "stdout",
     "output_type": "stream",
     "text": [
      "Data Science\n"
     ]
    }
   ],
   "source": [
    "print(s3) "
   ]
  },
  {
   "cell_type": "markdown",
   "id": "7b1f3379",
   "metadata": {
    "id": "7b1f3379"
   },
   "source": [
    "### String Membership"
   ]
  },
  {
   "cell_type": "code",
   "execution_count": null,
   "id": "86d2b79a",
   "metadata": {
    "id": "86d2b79a"
   },
   "outputs": [],
   "source": [
    "# String membership\n",
    "mystr1 = \"Hello Everyone\"\n"
   ]
  },
  {
   "cell_type": "code",
   "execution_count": null,
   "id": "073089bb",
   "metadata": {
    "collapsed": true,
    "id": "073089bb",
    "outputId": "9cf537ce-26f1-4ee7-c863-bc38afd3a1f5"
   },
   "outputs": [
    {
     "data": {
      "text/plain": [
       "True"
      ]
     },
     "execution_count": 18,
     "metadata": {},
     "output_type": "execute_result"
    }
   ],
   "source": [
    "'Hello' in mystr1 # Check whether \n",
    "#substring \"Hello\" is present in given string \n"
   ]
  },
  {
   "cell_type": "code",
   "execution_count": null,
   "id": "8c90f7d0",
   "metadata": {
    "collapsed": true,
    "id": "8c90f7d0",
    "outputId": "397087df-11a3-44a1-904f-4c025c71ce0b"
   },
   "outputs": [
    {
     "data": {
      "text/plain": [
       "False"
      ]
     },
     "execution_count": 19,
     "metadata": {},
     "output_type": "execute_result"
    }
   ],
   "source": [
    "'hello' in mystr1"
   ]
  },
  {
   "cell_type": "markdown",
   "id": "8ece4e99",
   "metadata": {
    "id": "8ece4e99"
   },
   "source": [
    "### String Partioning"
   ]
  },
  {
   "cell_type": "code",
   "execution_count": null,
   "id": "0ba08747",
   "metadata": {
    "executionInfo": {
     "elapsed": 454,
     "status": "ok",
     "timestamp": 1652335083127,
     "user": {
      "displayName": "Rohan Ravindra Sohani",
      "userId": "06993368347103045844"
     },
     "user_tz": -330
    },
    "id": "0ba08747",
    "outputId": "290c7825-e707-4c93-e417-d7d4ffc353c7"
   },
   "outputs": [
    {
     "data": {
      "text/plain": [
       "('Natural language processing with Python ', 'and', ' R and Java')"
      ]
     },
     "execution_count": 23,
     "metadata": {},
     "output_type": "execute_result"
    }
   ],
   "source": [
    "\"\"\"\n",
    "The partition() method searches for a specified string and splits the string into\n",
    " - The first element contains the part before the argument string.\n",
    " - The second element contains the argument string.\n",
    " - The third element contains the part after the argument string.\n",
    "\"\"\"\n",
    "str5 = \"Natural language processing with Python and R and Java\"\n",
    "L = str5.partition(\"and\") \n",
    "L"
   ]
  },
  {
   "cell_type": "code",
   "execution_count": null,
   "id": "18caaae1",
   "metadata": {
    "id": "18caaae1"
   },
   "outputs": [],
   "source": [
    "str5"
   ]
  },
  {
   "cell_type": "code",
   "execution_count": null,
   "id": "4ee663bd",
   "metadata": {
    "id": "4ee663bd"
   },
   "outputs": [],
   "source": [
    "L"
   ]
  },
  {
   "cell_type": "markdown",
   "id": "8c3d4fc9",
   "metadata": {
    "id": "8c3d4fc9"
   },
   "source": [
    "### String Functions"
   ]
  },
  {
   "cell_type": "code",
   "execution_count": null,
   "id": "be81f2fa",
   "metadata": {
    "collapsed": true,
    "id": "be81f2fa",
    "outputId": "2164e1ae-255b-4ec4-b248-3e4be2e195c8"
   },
   "outputs": [
    {
     "data": {
      "text/plain": [
       "' Hello Everyone '"
      ]
     },
     "execution_count": 24,
     "metadata": {},
     "output_type": "execute_result"
    }
   ],
   "source": [
    "mystr2 = \" Hello Everyone \"\n",
    "mystr2"
   ]
  },
  {
   "cell_type": "code",
   "execution_count": null,
   "id": "d409e01e",
   "metadata": {
    "collapsed": true,
    "id": "d409e01e",
    "outputId": "fb82509e-9f04-4280-fbb5-e05c17ea8d45"
   },
   "outputs": [
    {
     "data": {
      "text/plain": [
       "3"
      ]
     },
     "execution_count": 26,
     "metadata": {},
     "output_type": "execute_result"
    }
   ],
   "source": [
    "mystr2.count('e')"
   ]
  },
  {
   "cell_type": "code",
   "execution_count": null,
   "id": "3855fdc1",
   "metadata": {
    "id": "3855fdc1"
   },
   "outputs": [],
   "source": [
    "mystr2.count('E') ## count the number of occurence of given substring in given string"
   ]
  },
  {
   "cell_type": "code",
   "execution_count": null,
   "id": "6e52d5b9",
   "metadata": {
    "id": "6e52d5b9",
    "outputId": "0e9bece5-1085-45c0-92eb-4a742a3be7bd"
   },
   "outputs": [
    {
     "data": {
      "text/plain": [
       "' Hello Everyone '"
      ]
     },
     "execution_count": 27,
     "metadata": {},
     "output_type": "execute_result"
    }
   ],
   "source": [
    "mystr2"
   ]
  },
  {
   "cell_type": "code",
   "execution_count": null,
   "id": "e7a3b771",
   "metadata": {
    "collapsed": true,
    "id": "e7a3b771",
    "outputId": "0f9ee69d-4083-4260-8986-c50c7b87dd3c"
   },
   "outputs": [
    {
     "data": {
      "text/plain": [
       "'Hello Everyone'"
      ]
     },
     "execution_count": 28,
     "metadata": {},
     "output_type": "execute_result"
    }
   ],
   "source": [
    "mystr2.strip()"
   ]
  },
  {
   "cell_type": "code",
   "execution_count": null,
   "id": "0c5a67a2",
   "metadata": {
    "collapsed": true,
    "id": "0c5a67a2",
    "outputId": "26b6371c-4275-48a0-a8e5-ff2f5e0d7871"
   },
   "outputs": [
    {
     "data": {
      "text/plain": [
       "' Hello Everyone '"
      ]
     },
     "execution_count": 32,
     "metadata": {},
     "output_type": "execute_result"
    }
   ],
   "source": [
    "mystr2"
   ]
  },
  {
   "cell_type": "code",
   "execution_count": null,
   "id": "ed2b80db",
   "metadata": {
    "id": "ed2b80db"
   },
   "outputs": [],
   "source": [
    "str1=mystr2.strip()"
   ]
  },
  {
   "cell_type": "code",
   "execution_count": null,
   "id": "822cbd37",
   "metadata": {
    "collapsed": true,
    "id": "822cbd37",
    "outputId": "71e0085f-a1c8-493d-e8dc-3adfa56191a8"
   },
   "outputs": [
    {
     "data": {
      "text/plain": [
       "'Hello Everyone'"
      ]
     },
     "execution_count": 31,
     "metadata": {},
     "output_type": "execute_result"
    }
   ],
   "source": [
    "str1"
   ]
  },
  {
   "cell_type": "code",
   "execution_count": null,
   "id": "adfd0c11",
   "metadata": {
    "id": "adfd0c11",
    "scrolled": true
   },
   "outputs": [],
   "source": [
    "mystr2.rstrip() # Removes all whitespaces at the end of the string"
   ]
  },
  {
   "cell_type": "code",
   "execution_count": null,
   "id": "ddba005e",
   "metadata": {
    "id": "ddba005e",
    "scrolled": true
   },
   "outputs": [],
   "source": [
    "mystr2.lstrip() # Removes all whitespaces at the begining of the string"
   ]
  },
  {
   "cell_type": "code",
   "execution_count": null,
   "id": "c747149b",
   "metadata": {
    "id": "c747149b"
   },
   "outputs": [],
   "source": [
    "mystr2"
   ]
  },
  {
   "cell_type": "code",
   "execution_count": null,
   "id": "b7afef19",
   "metadata": {
    "id": "b7afef19"
   },
   "outputs": [],
   "source": [
    "mystr2 = \"*********Hello Everyone***********All the Best**********\"\n",
    "mystr2"
   ]
  },
  {
   "cell_type": "code",
   "execution_count": null,
   "id": "dbb00304",
   "metadata": {
    "id": "dbb00304",
    "scrolled": true
   },
   "outputs": [],
   "source": [
    "mystr2.strip('*') # Removes all '*' characters from begining \n",
    "#& end of the string"
   ]
  },
  {
   "cell_type": "code",
   "execution_count": null,
   "id": "af7c9b10",
   "metadata": {
    "id": "af7c9b10"
   },
   "outputs": [],
   "source": [
    "mystr2='HELLO PYTHON'"
   ]
  },
  {
   "cell_type": "code",
   "execution_count": null,
   "id": "9a08cfda",
   "metadata": {
    "collapsed": true,
    "id": "9a08cfda",
    "outputId": "92519c7c-e345-48fd-96ad-e9da01b30358"
   },
   "outputs": [
    {
     "data": {
      "text/plain": [
       "'hello python'"
      ]
     },
     "execution_count": 34,
     "metadata": {},
     "output_type": "execute_result"
    }
   ],
   "source": [
    "mystr2.lower()"
   ]
  },
  {
   "cell_type": "code",
   "execution_count": null,
   "id": "c2a468df",
   "metadata": {
    "id": "c2a468df"
   },
   "outputs": [],
   "source": [
    "mystr5='hello python'"
   ]
  },
  {
   "cell_type": "code",
   "execution_count": null,
   "id": "340e2449",
   "metadata": {
    "id": "340e2449",
    "outputId": "e7fbe459-5327-45e6-bfc4-ca76aaf74aff",
    "scrolled": true
   },
   "outputs": [
    {
     "data": {
      "text/plain": [
       "'HELLO PYTHON'"
      ]
     },
     "execution_count": 36,
     "metadata": {},
     "output_type": "execute_result"
    }
   ],
   "source": [
    "mystr5.upper()"
   ]
  },
  {
   "cell_type": "code",
   "execution_count": null,
   "id": "fad85656",
   "metadata": {
    "collapsed": true,
    "id": "fad85656",
    "outputId": "c6ef001c-b6dc-4c8f-b892-a420b61c5115"
   },
   "outputs": [
    {
     "data": {
      "text/plain": [
       "False"
      ]
     },
     "execution_count": 38,
     "metadata": {},
     "output_type": "execute_result"
    }
   ],
   "source": [
    "mystr5.startswith(\"He\") \n",
    "# Return boolean value True if string starts with \"He\"\n"
   ]
  },
  {
   "cell_type": "code",
   "execution_count": null,
   "id": "6305a0b1",
   "metadata": {
    "collapsed": true,
    "id": "6305a0b1",
    "outputId": "5a428a41-b6bb-42c4-e80f-f038111c2303"
   },
   "outputs": [
    {
     "data": {
      "text/plain": [
       "True"
      ]
     },
     "execution_count": 39,
     "metadata": {},
     "output_type": "execute_result"
    }
   ],
   "source": [
    "mystr5.endswith(\"on\") \n",
    "# Return boolean value True if string ends with \"on\""
   ]
  },
  {
   "cell_type": "code",
   "execution_count": null,
   "id": "f7d7c529",
   "metadata": {
    "id": "f7d7c529"
   },
   "outputs": [],
   "source": [
    "mystr4 = \"one two three four one two two \\\n",
    "three five five six seven six seven one oneone ten eight \\\n",
    "ten nine eleven ten ten nine\""
   ]
  },
  {
   "cell_type": "code",
   "execution_count": null,
   "id": "44834058",
   "metadata": {
    "id": "44834058",
    "outputId": "fd12d735-5575-4a8d-86d3-fefb6f8a439c"
   },
   "outputs": [
    {
     "data": {
      "text/plain": [
       "'one two three four one two two three five five six seven six seven one oneone ten eight ten nine eleven ten ten nine'"
      ]
     },
     "execution_count": 41,
     "metadata": {},
     "output_type": "execute_result"
    }
   ],
   "source": [
    "mystr4"
   ]
  },
  {
   "cell_type": "code",
   "execution_count": null,
   "id": "fcb30b96",
   "metadata": {
    "collapsed": true,
    "id": "fcb30b96",
    "outputId": "b65c3ad8-a0de-4e6e-d602-401bc2a4acb5"
   },
   "outputs": [
    {
     "data": {
      "text/plain": [
       "['one',\n",
       " 'two',\n",
       " 'three',\n",
       " 'four',\n",
       " 'one',\n",
       " 'two',\n",
       " 'two',\n",
       " 'three',\n",
       " 'five',\n",
       " 'five',\n",
       " 'six',\n",
       " 'seven',\n",
       " 'six',\n",
       " 'seven',\n",
       " 'one',\n",
       " 'oneone',\n",
       " 'ten',\n",
       " 'eight',\n",
       " 'ten',\n",
       " 'nine',\n",
       " 'eleven',\n",
       " 'ten',\n",
       " 'ten',\n",
       " 'nine']"
      ]
     },
     "execution_count": 45,
     "metadata": {},
     "output_type": "execute_result"
    }
   ],
   "source": [
    "mystr4.split()"
   ]
  },
  {
   "cell_type": "code",
   "execution_count": null,
   "id": "a8c2ae2d",
   "metadata": {
    "id": "a8c2ae2d"
   },
   "outputs": [],
   "source": [
    "print(mystr4.split('e'))"
   ]
  },
  {
   "cell_type": "code",
   "execution_count": null,
   "id": "ff8f5f98",
   "metadata": {
    "id": "ff8f5f98",
    "outputId": "bf72a4a5-8f64-4c51-fe49-643f4555fe5d"
   },
   "outputs": [
    {
     "data": {
      "text/plain": [
       "'Cost of item1 , item2 and item3 are 40 , 77 and 55'"
      ]
     },
     "execution_count": 47,
     "metadata": {},
     "output_type": "execute_result"
    }
   ],
   "source": [
    "# Combining string & numbers using format method\n",
    "item1 = 40\n",
    "item2 = 55\n",
    "item3 = 77\n",
    "\"Cost of item1 , item2 and item3 are {} , {} and {}\"\n",
    ".format(item1,item3,item2)\n",
    "\n"
   ]
  },
  {
   "cell_type": "code",
   "execution_count": null,
   "id": "0362f463",
   "metadata": {
    "id": "0362f463"
   },
   "outputs": [],
   "source": [
    "a=5\n",
    "b=3\n",
    "c=9\n",
    "print('The value of a is {} \n",
    "      and the value of b is {} value of c is {}  '.format(b,c,a))"
   ]
  },
  {
   "cell_type": "markdown",
   "id": "ed364f92",
   "metadata": {
    "id": "ed364f92"
   },
   "source": [
    "# Typecasting"
   ]
  },
  {
   "cell_type": "markdown",
   "id": "1eee6a0d",
   "metadata": {
    "id": "1eee6a0d"
   },
   "source": [
    "* Type Casting is the method to convert the variable data type into a certain data \n",
    "type in order to the operation required to be performed by users.\n",
    "\n",
    "* There are 2 ways in which typecasting is performed.\n",
    "\n",
    "1) Autotypecasting\n",
    "\n",
    "\n",
    "2) Forced Typecasting"
   ]
  },
  {
   "cell_type": "markdown",
   "id": "202310c5",
   "metadata": {
    "id": "202310c5"
   },
   "source": [
    "## Auto Typecasting\n",
    "* The Python interpreter automatically converts one data type to another without any user involvement. "
   ]
  },
  {
   "cell_type": "code",
   "execution_count": null,
   "id": "85f98668",
   "metadata": {
    "id": "85f98668",
    "outputId": "5cef69de-3df3-49d8-8bdb-7a4d514c7ad9",
    "scrolled": true
   },
   "outputs": [
    {
     "data": {
      "text/plain": [
       "9.67"
      ]
     },
     "execution_count": 48,
     "metadata": {},
     "output_type": "execute_result"
    }
   ],
   "source": [
    "4 + 5.67 + False\n",
    "##( background processing of the code) due to the  \n",
    "##higher hierarchy of float datatype"
   ]
  },
  {
   "cell_type": "code",
   "execution_count": null,
   "id": "5ae66f4a",
   "metadata": {
    "id": "5ae66f4a",
    "outputId": "edc3836e-2555-4652-f091-77cfdeaa41ee"
   },
   "outputs": [
    {
     "data": {
      "text/plain": [
       "10.6"
      ]
     },
     "execution_count": 49,
     "metadata": {},
     "output_type": "execute_result"
    }
   ],
   "source": [
    "4 + 5.6 + False + True"
   ]
  },
  {
   "cell_type": "code",
   "execution_count": null,
   "id": "d2d1107a",
   "metadata": {
    "colab": {
     "base_uri": "https://localhost:8080/",
     "height": 166
    },
    "executionInfo": {
     "elapsed": 8,
     "status": "error",
     "timestamp": 1652354423989,
     "user": {
      "displayName": "Rohan Ravindra Sohani",
      "userId": "06993368347103045844"
     },
     "user_tz": -330
    },
    "id": "d2d1107a",
    "outputId": "d1145384-0b36-470d-c901-9c394cf2fb51"
   },
   "outputs": [
    {
     "ename": "TypeError",
     "evalue": "unsupported operand type(s) for +: 'int' and 'str'",
     "output_type": "error",
     "traceback": [
      "\u001b[0;31m---------------------------------------------------------------------------\u001b[0m",
      "\u001b[0;31mTypeError\u001b[0m                                 Traceback (most recent call last)",
      "\u001b[0;32m/var/folders/3w/qgrjz9016jd1t5gx01np29gw0000gn/T/ipykernel_6543/2495151742.py\u001b[0m in \u001b[0;36m<module>\u001b[0;34m\u001b[0m\n\u001b[0;32m----> 1\u001b[0;31m \u001b[0;36m4\u001b[0m\u001b[0;34m+\u001b[0m\u001b[0;36m3\u001b[0m\u001b[0;34m+\u001b[0m\u001b[0;34m'data'\u001b[0m\u001b[0;34m+\u001b[0m\u001b[0;36m6.7\u001b[0m\u001b[0;34m\u001b[0m\u001b[0;34m\u001b[0m\u001b[0m\n\u001b[0m",
      "\u001b[0;31mTypeError\u001b[0m: unsupported operand type(s) for +: 'int' and 'str'"
     ]
    }
   ],
   "source": [
    "4+3+'data'+6.7"
   ]
  },
  {
   "cell_type": "code",
   "execution_count": null,
   "id": "d272b730",
   "metadata": {
    "id": "d272b730",
    "scrolled": true
   },
   "outputs": [],
   "source": [
    "True + 3.6 "
   ]
  },
  {
   "cell_type": "markdown",
   "id": "86d08aae",
   "metadata": {
    "id": "86d08aae"
   },
   "source": [
    "## Forced Typecasting"
   ]
  },
  {
   "cell_type": "code",
   "execution_count": null,
   "id": "d42d6532",
   "metadata": {
    "id": "d42d6532"
   },
   "outputs": [],
   "source": [
    "a=9.7"
   ]
  },
  {
   "cell_type": "code",
   "execution_count": null,
   "id": "5c4bd907",
   "metadata": {
    "id": "5c4bd907",
    "outputId": "a15e6835-34ce-4423-cb9d-e22c2ad96fa5"
   },
   "outputs": [
    {
     "data": {
      "text/plain": [
       "float"
      ]
     },
     "execution_count": 52,
     "metadata": {},
     "output_type": "execute_result"
    }
   ],
   "source": [
    "type(a)"
   ]
  },
  {
   "cell_type": "code",
   "execution_count": null,
   "id": "52c773ff",
   "metadata": {
    "id": "52c773ff",
    "outputId": "9a733539-974e-4cc7-8178-a74375a463e9"
   },
   "outputs": [
    {
     "data": {
      "text/plain": [
       "9"
      ]
     },
     "execution_count": 53,
     "metadata": {},
     "output_type": "execute_result"
    }
   ],
   "source": [
    "int(a)"
   ]
  },
  {
   "cell_type": "code",
   "execution_count": null,
   "id": "26d9fc15",
   "metadata": {
    "id": "26d9fc15",
    "outputId": "f2f36a47-e279-4405-8c39-11d17088917a"
   },
   "outputs": [
    {
     "data": {
      "text/plain": [
       "False"
      ]
     },
     "execution_count": 55,
     "metadata": {},
     "output_type": "execute_result"
    }
   ],
   "source": [
    "bool(a)"
   ]
  },
  {
   "cell_type": "code",
   "execution_count": null,
   "id": "b91c3821",
   "metadata": {
    "id": "b91c3821",
    "outputId": "2f592889-cf35-43bd-c3f7-c0348af390f7"
   },
   "outputs": [
    {
     "data": {
      "text/plain": [
       "'9.7'"
      ]
     },
     "execution_count": 56,
     "metadata": {},
     "output_type": "execute_result"
    }
   ],
   "source": [
    "str(a)"
   ]
  },
  {
   "cell_type": "code",
   "execution_count": null,
   "id": "dc49132c",
   "metadata": {
    "id": "dc49132c"
   },
   "outputs": [],
   "source": [
    "a=5"
   ]
  },
  {
   "cell_type": "code",
   "execution_count": null,
   "id": "afe1b8fe",
   "metadata": {
    "id": "afe1b8fe",
    "outputId": "ab1e2fae-0126-4a5f-db7c-4bcceff6f682"
   },
   "outputs": [
    {
     "data": {
      "text/plain": [
       "5.0"
      ]
     },
     "execution_count": 58,
     "metadata": {},
     "output_type": "execute_result"
    }
   ],
   "source": [
    "float(a)"
   ]
  },
  {
   "cell_type": "code",
   "execution_count": null,
   "id": "5263d0e3",
   "metadata": {
    "id": "5263d0e3",
    "outputId": "f012207f-28c1-4c18-bcba-84b521c2ae32"
   },
   "outputs": [
    {
     "data": {
      "text/plain": [
       "True"
      ]
     },
     "execution_count": 59,
     "metadata": {},
     "output_type": "execute_result"
    }
   ],
   "source": [
    "bool(a)"
   ]
  },
  {
   "cell_type": "code",
   "execution_count": null,
   "id": "0ba33ee8",
   "metadata": {
    "id": "0ba33ee8",
    "outputId": "1c24056a-fe6a-49d2-d11f-d91285b29803",
    "scrolled": true
   },
   "outputs": [
    {
     "data": {
      "text/plain": [
       "'5'"
      ]
     },
     "execution_count": 60,
     "metadata": {},
     "output_type": "execute_result"
    }
   ],
   "source": [
    "str(a)"
   ]
  },
  {
   "cell_type": "code",
   "execution_count": null,
   "id": "423ea644",
   "metadata": {
    "id": "423ea644"
   },
   "outputs": [],
   "source": [
    "a=False"
   ]
  },
  {
   "cell_type": "code",
   "execution_count": null,
   "id": "d2f19935",
   "metadata": {
    "id": "d2f19935",
    "outputId": "6a515d9f-38bd-47b2-ce48-21c0195fff39"
   },
   "outputs": [
    {
     "data": {
      "text/plain": [
       "0.0"
      ]
     },
     "execution_count": 66,
     "metadata": {},
     "output_type": "execute_result"
    }
   ],
   "source": [
    "float(a)"
   ]
  },
  {
   "cell_type": "code",
   "execution_count": null,
   "id": "26b1d16e",
   "metadata": {
    "id": "26b1d16e",
    "outputId": "2e1abf4e-d337-4a55-f252-922115d32aae"
   },
   "outputs": [
    {
     "data": {
      "text/plain": [
       "0"
      ]
     },
     "execution_count": 67,
     "metadata": {},
     "output_type": "execute_result"
    }
   ],
   "source": [
    "int(a)"
   ]
  },
  {
   "cell_type": "code",
   "execution_count": null,
   "id": "1a52f466",
   "metadata": {
    "id": "1a52f466",
    "outputId": "ae0a1f3d-6485-4b83-921a-9c9e153cbc87"
   },
   "outputs": [
    {
     "data": {
      "text/plain": [
       "'False'"
      ]
     },
     "execution_count": 68,
     "metadata": {},
     "output_type": "execute_result"
    }
   ],
   "source": [
    "str(a)"
   ]
  },
  {
   "cell_type": "code",
   "execution_count": null,
   "id": "2613aa7d",
   "metadata": {
    "id": "2613aa7d"
   },
   "outputs": [],
   "source": [
    "a='qewrw'"
   ]
  },
  {
   "cell_type": "code",
   "execution_count": null,
   "id": "c3cbcdb2",
   "metadata": {
    "collapsed": true,
    "id": "c3cbcdb2",
    "outputId": "46363522-79a0-435e-b5a7-1967416951d3"
   },
   "outputs": [
    {
     "ename": "ValueError",
     "evalue": "could not convert string to float: 'qewrw'",
     "output_type": "error",
     "traceback": [
      "\u001b[0;31m---------------------------------------------------------------------------\u001b[0m",
      "\u001b[0;31mValueError\u001b[0m                                Traceback (most recent call last)",
      "\u001b[0;32m/var/folders/3w/qgrjz9016jd1t5gx01np29gw0000gn/T/ipykernel_6543/593670237.py\u001b[0m in \u001b[0;36m<module>\u001b[0;34m\u001b[0m\n\u001b[0;32m----> 1\u001b[0;31m \u001b[0mfloat\u001b[0m\u001b[0;34m(\u001b[0m\u001b[0ma\u001b[0m\u001b[0;34m)\u001b[0m\u001b[0;34m\u001b[0m\u001b[0;34m\u001b[0m\u001b[0m\n\u001b[0m",
      "\u001b[0;31mValueError\u001b[0m: could not convert string to float: 'qewrw'"
     ]
    }
   ],
   "source": [
    "float(a)"
   ]
  },
  {
   "cell_type": "code",
   "execution_count": null,
   "id": "40f399e5",
   "metadata": {
    "collapsed": true,
    "id": "40f399e5",
    "outputId": "af69c6fb-8e20-4eb8-8e42-fc61e4fe9824"
   },
   "outputs": [
    {
     "ename": "ValueError",
     "evalue": "invalid literal for int() with base 10: 'qewrw'",
     "output_type": "error",
     "traceback": [
      "\u001b[0;31m---------------------------------------------------------------------------\u001b[0m",
      "\u001b[0;31mValueError\u001b[0m                                Traceback (most recent call last)",
      "\u001b[0;32m/var/folders/3w/qgrjz9016jd1t5gx01np29gw0000gn/T/ipykernel_6543/766485689.py\u001b[0m in \u001b[0;36m<module>\u001b[0;34m\u001b[0m\n\u001b[0;32m----> 1\u001b[0;31m \u001b[0mint\u001b[0m\u001b[0;34m(\u001b[0m\u001b[0ma\u001b[0m\u001b[0;34m)\u001b[0m\u001b[0;34m\u001b[0m\u001b[0;34m\u001b[0m\u001b[0m\n\u001b[0m",
      "\u001b[0;31mValueError\u001b[0m: invalid literal for int() with base 10: 'qewrw'"
     ]
    }
   ],
   "source": [
    "int(a)"
   ]
  },
  {
   "cell_type": "code",
   "execution_count": null,
   "id": "31946450",
   "metadata": {
    "id": "31946450"
   },
   "outputs": [],
   "source": [
    "a=''"
   ]
  },
  {
   "cell_type": "code",
   "execution_count": null,
   "id": "1fee0875",
   "metadata": {
    "id": "1fee0875",
    "outputId": "aa979e07-2441-4751-d374-3bf3015f6c34"
   },
   "outputs": [
    {
     "data": {
      "text/plain": [
       "False"
      ]
     },
     "execution_count": 74,
     "metadata": {},
     "output_type": "execute_result"
    }
   ],
   "source": [
    "bool(a)"
   ]
  },
  {
   "cell_type": "code",
   "execution_count": null,
   "id": "f4e7c68a",
   "metadata": {
    "colab": {
     "base_uri": "https://localhost:8080/",
     "height": 166
    },
    "executionInfo": {
     "elapsed": 559,
     "status": "error",
     "timestamp": 1652334099577,
     "user": {
      "displayName": "Rohan Ravindra Sohani",
      "userId": "06993368347103045844"
     },
     "user_tz": -330
    },
    "id": "f4e7c68a",
    "outputId": "dead3237-e682-41f3-9d05-4e001cac5310"
   },
   "outputs": [
    {
     "ename": "ValueError",
     "evalue": "invalid literal for int() with base 10: 'data'",
     "output_type": "error",
     "traceback": [
      "\u001b[0;31m---------------------------------------------------------------------------\u001b[0m",
      "\u001b[0;31mValueError\u001b[0m                                Traceback (most recent call last)",
      "\u001b[0;32m/var/folders/3w/qgrjz9016jd1t5gx01np29gw0000gn/T/ipykernel_6543/1447147357.py\u001b[0m in \u001b[0;36m<module>\u001b[0;34m\u001b[0m\n\u001b[0;32m----> 1\u001b[0;31m \u001b[0mint\u001b[0m\u001b[0;34m(\u001b[0m\u001b[0;34m'data'\u001b[0m\u001b[0;34m)\u001b[0m\u001b[0;34m\u001b[0m\u001b[0;34m\u001b[0m\u001b[0m\n\u001b[0m",
      "\u001b[0;31mValueError\u001b[0m: invalid literal for int() with base 10: 'data'"
     ]
    }
   ],
   "source": [
    "int('data')"
   ]
  },
  {
   "cell_type": "code",
   "execution_count": null,
   "id": "bd684c6f",
   "metadata": {
    "id": "bd684c6f",
    "outputId": "efaac74d-183c-41cf-e3e8-e5222355dba2"
   },
   "outputs": [
    {
     "data": {
      "text/plain": [
       "2"
      ]
     },
     "execution_count": 76,
     "metadata": {},
     "output_type": "execute_result"
    }
   ],
   "source": [
    "int('2')"
   ]
  },
  {
   "cell_type": "code",
   "execution_count": null,
   "id": "9e8361d5",
   "metadata": {
    "id": "9e8361d5",
    "outputId": "40118f82-f1e0-4a2c-8af9-6cc3774c27b3"
   },
   "outputs": [
    {
     "data": {
      "text/plain": [
       "1"
      ]
     },
     "execution_count": 77,
     "metadata": {},
     "output_type": "execute_result"
    }
   ],
   "source": [
    "int(True)"
   ]
  },
  {
   "cell_type": "code",
   "execution_count": null,
   "id": "75f03975",
   "metadata": {
    "id": "75f03975",
    "outputId": "a32b769b-b65e-4a17-ed47-a215ed679e55",
    "scrolled": true
   },
   "outputs": [
    {
     "data": {
      "text/plain": [
       "0"
      ]
     },
     "execution_count": 78,
     "metadata": {},
     "output_type": "execute_result"
    }
   ],
   "source": [
    "int(False)"
   ]
  },
  {
   "cell_type": "code",
   "execution_count": null,
   "id": "3905f14c",
   "metadata": {
    "id": "3905f14c",
    "outputId": "39d89d3c-1ae0-4f5e-b8e9-b53579307b16"
   },
   "outputs": [
    {
     "data": {
      "text/plain": [
       "1.0"
      ]
     },
     "execution_count": 79,
     "metadata": {},
     "output_type": "execute_result"
    }
   ],
   "source": [
    "float(True)"
   ]
  },
  {
   "cell_type": "code",
   "execution_count": null,
   "id": "dc81f7e9",
   "metadata": {
    "id": "dc81f7e9",
    "outputId": "b8eb9159-de8a-4bb8-8434-445b82131fb2",
    "scrolled": true
   },
   "outputs": [
    {
     "data": {
      "text/plain": [
       "0.0"
      ]
     },
     "execution_count": 80,
     "metadata": {},
     "output_type": "execute_result"
    }
   ],
   "source": [
    "float(False)"
   ]
  },
  {
   "cell_type": "code",
   "execution_count": null,
   "id": "2c1e5c2c",
   "metadata": {
    "id": "2c1e5c2c",
    "outputId": "828371ac-2509-4c14-f604-780223509aeb"
   },
   "outputs": [
    {
     "ename": "ValueError",
     "evalue": "could not convert string to float: 'abc'",
     "output_type": "error",
     "traceback": [
      "\u001b[0;31m---------------------------------------------------------------------------\u001b[0m",
      "\u001b[0;31mValueError\u001b[0m                                Traceback (most recent call last)",
      "\u001b[0;32m/var/folders/3w/qgrjz9016jd1t5gx01np29gw0000gn/T/ipykernel_6543/3020208941.py\u001b[0m in \u001b[0;36m<module>\u001b[0;34m\u001b[0m\n\u001b[0;32m----> 1\u001b[0;31m \u001b[0mfloat\u001b[0m\u001b[0;34m(\u001b[0m\u001b[0;34m'abc'\u001b[0m\u001b[0;34m)\u001b[0m  \u001b[0;31m# Convert the datatype to float\u001b[0m\u001b[0;34m\u001b[0m\u001b[0;34m\u001b[0m\u001b[0m\n\u001b[0m",
      "\u001b[0;31mValueError\u001b[0m: could not convert string to float: 'abc'"
     ]
    }
   ],
   "source": [
    "float('abc')  # Convert the datatype to float"
   ]
  },
  {
   "cell_type": "code",
   "execution_count": null,
   "id": "395b4aa7",
   "metadata": {
    "id": "395b4aa7",
    "outputId": "89ec310d-ed5d-44fb-b8c2-b28688feeaeb",
    "scrolled": true
   },
   "outputs": [
    {
     "data": {
      "text/plain": [
       "True"
      ]
     },
     "execution_count": 82,
     "metadata": {},
     "output_type": "execute_result"
    }
   ],
   "source": [
    "bool(8.9)#converting float type into bool"
   ]
  },
  {
   "cell_type": "code",
   "execution_count": null,
   "id": "a48861ee",
   "metadata": {
    "id": "a48861ee",
    "outputId": "bba63f1e-a5a9-455c-f61f-809438ef44ef",
    "scrolled": true
   },
   "outputs": [
    {
     "data": {
      "text/plain": [
       "False"
      ]
     },
     "execution_count": 83,
     "metadata": {},
     "output_type": "execute_result"
    }
   ],
   "source": [
    "bool(0)"
   ]
  },
  {
   "cell_type": "code",
   "execution_count": null,
   "id": "00a8c882",
   "metadata": {
    "id": "00a8c882",
    "outputId": "2c76b4c7-3f46-4a60-a80a-6d695900129d",
    "scrolled": true
   },
   "outputs": [
    {
     "data": {
      "text/plain": [
       "True"
      ]
     },
     "execution_count": 84,
     "metadata": {},
     "output_type": "execute_result"
    }
   ],
   "source": [
    "bool(-1)"
   ]
  },
  {
   "cell_type": "code",
   "execution_count": null,
   "id": "85eff29b",
   "metadata": {
    "id": "85eff29b",
    "outputId": "18bc98de-936d-4452-f99c-6fd3da734426"
   },
   "outputs": [
    {
     "data": {
      "text/plain": [
       "5"
      ]
     },
     "execution_count": 85,
     "metadata": {},
     "output_type": "execute_result"
    }
   ],
   "source": [
    "# Guess the output\n",
    "int(1.5)+4+bool(0)\n"
   ]
  },
  {
   "cell_type": "code",
   "execution_count": null,
   "id": "d63dad07",
   "metadata": {
    "id": "d63dad07",
    "outputId": "047f3686-c0ea-424c-fdaa-a1d42268c8d2"
   },
   "outputs": [
    {
     "data": {
      "text/plain": [
       "12.0"
      ]
     },
     "execution_count": 86,
     "metadata": {},
     "output_type": "execute_result"
    }
   ],
   "source": [
    "int(5.6)+float(6)+bool(23)\n"
   ]
  },
  {
   "cell_type": "code",
   "execution_count": null,
   "id": "06aee519",
   "metadata": {
    "id": "06aee519",
    "outputId": "d25165bc-5017-47eb-ab1d-6bda1c5f499a"
   },
   "outputs": [
    {
     "data": {
      "text/plain": [
       "12.2"
      ]
     },
     "execution_count": 87,
     "metadata": {},
     "output_type": "execute_result"
    }
   ],
   "source": [
    "int(6.5)+1.2+int(5.5)+ bool(0)"
   ]
  },
  {
   "cell_type": "code",
   "execution_count": null,
   "id": "a8c93b79",
   "metadata": {
    "id": "a8c93b79",
    "outputId": "ed9754f0-c312-47ce-e208-a84cf22edb93"
   },
   "outputs": [
    {
     "data": {
      "text/plain": [
       "'5'"
      ]
     },
     "execution_count": 88,
     "metadata": {},
     "output_type": "execute_result"
    }
   ],
   "source": [
    "str(5)"
   ]
  },
  {
   "cell_type": "code",
   "execution_count": null,
   "id": "62476512",
   "metadata": {
    "id": "62476512",
    "outputId": "de56134b-80b1-4bab-8258-5e6eef510567"
   },
   "outputs": [
    {
     "data": {
      "text/plain": [
       "'9.0'"
      ]
     },
     "execution_count": 89,
     "metadata": {},
     "output_type": "execute_result"
    }
   ],
   "source": [
    "str(9.0)"
   ]
  },
  {
   "cell_type": "code",
   "execution_count": null,
   "id": "434e87de",
   "metadata": {
    "id": "434e87de",
    "outputId": "b2290f43-fce0-4b5b-ab47-2e3c33410ab3"
   },
   "outputs": [
    {
     "data": {
      "text/plain": [
       "'True'"
      ]
     },
     "execution_count": 90,
     "metadata": {},
     "output_type": "execute_result"
    }
   ],
   "source": [
    "str(True)"
   ]
  },
  {
   "cell_type": "code",
   "execution_count": null,
   "id": "25110c49",
   "metadata": {
    "id": "25110c49",
    "outputId": "d57baa02-cf47-4612-d5df-55abccde5cf8"
   },
   "outputs": [
    {
     "data": {
      "text/plain": [
       "'False'"
      ]
     },
     "execution_count": 91,
     "metadata": {},
     "output_type": "execute_result"
    }
   ],
   "source": [
    "str(False)"
   ]
  }
 ],
 "metadata": {
  "colab": {
   "provenance": []
  },
  "kernelspec": {
   "display_name": "Python 3 (ipykernel)",
   "language": "python",
   "name": "python3"
  },
  "language_info": {
   "codemirror_mode": {
    "name": "ipython",
    "version": 3
   },
   "file_extension": ".py",
   "mimetype": "text/x-python",
   "name": "python",
   "nbconvert_exporter": "python",
   "pygments_lexer": "ipython3",
   "version": "3.11.3"
  }
 },
 "nbformat": 4,
 "nbformat_minor": 5
}
